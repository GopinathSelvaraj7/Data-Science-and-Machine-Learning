{
 "cells": [
  {
   "cell_type": "markdown",
   "metadata": {},
   "source": [
    "This IPL prediction is a classification as well regression problem. Let's go step by step in analysing the data and predicting which team will win or lose along with the stats and comparisons.\n",
    "\n",
    "Let's get started...!"
   ]
  },
  {
   "cell_type": "markdown",
   "metadata": {},
   "source": [
    "# Step by step approach\n",
    "1. Problem Definition\n",
    "2. Data analysis or EDA\n",
    "3. Evaluation\n",
    "4. Features\n",
    "5. Modelling\n",
    "6. Experimentation"
   ]
  },
  {
   "cell_type": "markdown",
   "metadata": {},
   "source": [
    "# 1. Problem Definition\n",
    "\n",
    "Here we have with us the data of IPL from season 2008-2017. \n",
    "We aim to answer 2 key questions:\n",
    "\n",
    "* What is the best classification algorithm to predict the results of two teams accurately, demonstrating the most important features within it?\n",
    "* What is the best regression algorithm to predict a bowler’s runs conceded?\n",
    "\n",
    "# 2. Data \n",
    "\n",
    "We have got the data from Kaggle. It uses two sets of data based from 2008 -2017; match-by-match and ball by ball statistics. The datasets are suitable to extract some key data, provide some statistical descriptive and visualizations and apply some machine learning techniques using Python.\n",
    "https://www.kaggle.com/aadilmalik94/ipl-cricket-dataset\n",
    "\n",
    "# 3. Evaluation\n",
    "\n",
    "The evaluation metric for the calssification problem would be the accuracy. We will try to achieve 90% above accuracy for our model.\n",
    "\n",
    "The evaluation metric for regression problem would be RMSE.\n",
    "\n",
    "# 4. Features\n",
    "\n",
    "We have got some features within our data such as the Man of the Match, toss winner, venue(home  ground or not), any many more. Let us loo at each feature and evaluate which is the most important feature."
   ]
  },
  {
   "cell_type": "markdown",
   "metadata": {},
   "source": [
    "## Tools preparation\n",
    "\n"
   ]
  },
  {
   "cell_type": "code",
   "execution_count": 1,
   "metadata": {},
   "outputs": [],
   "source": [
    "#import all necessary EDA and plotting libraries\n",
    "import pandas as pd\n",
    "import numpy as np\n",
    "import matplotlib.pyplot as plt\n",
    "import seaborn as sns\n",
    "%matplotlib inline\n",
    "\n",
    "#import models from scikit learn\n",
    "from sklearn.ensemble import RandomForestClassifier\n",
    "from sklearn.linear_model import LogisticRegression\n",
    "from sklearn.neighbors import KNeighborsClassifier\n",
    "\n",
    "#import evaluation metric\n",
    "from sklearn.model_selection import train_test_split, cross_val_score\n",
    "from sklearn.model_selection import RandomizedSearchCV, GridSearchCV\n",
    "from sklearn.metrics import confusion_matrix, classification_report\n",
    "from sklearn.metrics import precision_score, recall_score, f1_score\n",
    "from sklearn.metrics import plot_roc_curve"
   ]
  },
  {
   "cell_type": "code",
   "execution_count": 2,
   "metadata": {},
   "outputs": [],
   "source": [
    "df_matches = pd.read_csv(\"Data/datasets_108877_259936_matches.csv\")\n",
    "df_deliveries = pd.read_csv(\"Data/deliveries.csv\")\n",
    "#df_matches.head(), df_deliveries.head()"
   ]
  },
  {
   "cell_type": "code",
   "execution_count": 3,
   "metadata": {},
   "outputs": [
    {
     "data": {
      "text/plain": [
       "id                   0\n",
       "season               0\n",
       "city                 7\n",
       "date                 0\n",
       "team1                0\n",
       "team2                0\n",
       "toss_winner          0\n",
       "toss_decision        0\n",
       "result               0\n",
       "dl_applied           0\n",
       "winner               3\n",
       "win_by_runs          0\n",
       "win_by_wickets       0\n",
       "player_of_match      3\n",
       "venue                0\n",
       "umpire1              1\n",
       "umpire2              1\n",
       "umpire3            636\n",
       "dtype: int64"
      ]
     },
     "execution_count": 3,
     "metadata": {},
     "output_type": "execute_result"
    }
   ],
   "source": [
    "#let's check for missing values if any\n",
    "df_matches.isna().sum()"
   ]
  },
  {
   "cell_type": "code",
   "execution_count": 4,
   "metadata": {},
   "outputs": [
    {
     "data": {
      "text/plain": [
       "match_id                 0\n",
       "inning                   0\n",
       "batting_team             0\n",
       "bowling_team             0\n",
       "over                     0\n",
       "ball                     0\n",
       "batsman                  0\n",
       "non_striker              0\n",
       "bowler                   0\n",
       "is_super_over            0\n",
       "wide_runs                0\n",
       "bye_runs                 0\n",
       "legbye_runs              0\n",
       "noball_runs              0\n",
       "penalty_runs             0\n",
       "batsman_runs             0\n",
       "extra_runs               0\n",
       "total_runs               0\n",
       "player_dismissed    143022\n",
       "dismissal_kind      143022\n",
       "fielder             145091\n",
       "dtype: int64"
      ]
     },
     "execution_count": 4,
     "metadata": {},
     "output_type": "execute_result"
    }
   ],
   "source": [
    "df_deliveries.isna().sum()"
   ]
  },
  {
   "cell_type": "markdown",
   "metadata": {},
   "source": [
    "Let us explore with some visualization on the data we have!!"
   ]
  },
  {
   "cell_type": "code",
   "execution_count": 5,
   "metadata": {},
   "outputs": [],
   "source": [
    "#count of fours and sixes by each batsman \n",
    "fours = df_deliveries[df_deliveries[\"batsman_runs\"] == 4]\n",
    "sixes = df_deliveries[df_deliveries[\"batsman_runs\"] == 6]\n",
    "\n",
    "fours_batsman = fours.groupby([\"match_id\", \"inning\", \"batsman\"])[\"batsman_runs\"].count().reset_index()\n",
    "sixes_batsman = sixes.groupby([\"match_id\", \"inning\", \"batsman\"])[\"batsman_runs\"].count().reset_index()\n",
    "\n",
    "fours_batsman.rename(columns={\"batsman_runs\":\"4s\"}, inplace=True)\n",
    "sixes_batsman.rename(columns={\"batsman_runs\":\"6s\"}, inplace=True)\n",
    "\n",
    "del_batsman = df_deliveries.groupby([\"match_id\", \"inning\", \"batsman\"])\n",
    "batsman = del_batsman[\"batsman_runs\"].sum().reset_index()\n",
    "batsman = batsman.merge(fours_batsman, left_on = [\"match_id\", \"inning\", \"batsman\"],\n",
    "                        right_on = [\"match_id\",\"inning\", \"batsman\"],\n",
    "                        how=\"left\")\n",
    "batsman = batsman.merge(sixes_batsman, left_on = [\"match_id\", \"inning\", \"batsman\"],\n",
    "                        right_on = [\"match_id\",\"inning\", \"batsman\"],\n",
    "                        how=\"left\")\n",
    "#let us add strike rate for each player inning wise\n",
    "balls_faced = df_deliveries[df_deliveries[\"wide_runs\"] == 0] #ignoring the wides\n",
    "balls_faced = balls_faced.groupby([\"match_id\", \"inning\", \"batsman\"])[\"batsman_runs\"].count()\n",
    "batsman = batsman.merge(balls_faced, left_on=[\"match_id\", \"inning\", \"batsman\"],\n",
    "                        right_on=[\"match_id\", \"inning\", \"batsman\"],\n",
    "                        how=\"left\")\n",
    "batsman.rename(columns={\"batsman_runs_x\":\"runs\"}, inplace=True)\n",
    "batsman.rename(columns={\"batsman_runs_y\":\"balls_faced\"}, inplace=True)\n",
    "batsman[\"strike_rate\"] = (batsman[\"runs\"] / batsman[\"balls_faced\"] * 100).round(2)\n",
    "\n",
    "#now we will add the season runs for each player\n",
    "batsman = df_matches[[\"id\",\"season\"]].merge(batsman, left_on=[\"id\"],\n",
    "                                          right_on=[\"match_id\"],\n",
    "                                          how=\"left\")\n",
    "batsman.drop(\"match_id\", axis=1, inplace=True)\n",
    "season_runs = batsman.groupby([\"season\",\"batsman\"])[\"runs\"].sum()\n",
    "\n",
    "#top 15 run getters in a single edition\n",
    "top_edition = season_runs.sort_values(ascending=False)\n",
    "top_10_edition = top_edition[:10]\n",
    "#top_10 run getters in IPL history\n",
    "top_IPL = batsman.groupby([\"batsman\"])[\"runs\"].sum().sort_values(ascending=False)\n",
    "top_10_IPL = top_IPL[:10]"
   ]
  },
  {
   "cell_type": "code",
   "execution_count": 6,
   "metadata": {},
   "outputs": [
    {
     "data": {
      "image/png": "[encoded data removed]",
      "text/plain": [
       "<Figure size 432x288 with 1 Axes>"
      ]
     },
     "metadata": {
      "needs_background": "light"
     },
     "output_type": "display_data"
    }
   ],
   "source": [
    "#Plotting Top 10 run getters in IPL history\n",
    "top_10_IPL.plot(x='batsman', y=\"runs\", kind=\"bar\");"
   ]
  },
  {
   "cell_type": "code",
   "execution_count": 7,
   "metadata": {},
   "outputs": [
    {
     "data": {
      "image/png": "[encoded data removed]",
      "text/plain": [
       "<Figure size 432x288 with 1 Axes>"
      ]
     },
     "metadata": {
      "needs_background": "light"
     },
     "output_type": "display_data"
    }
   ],
   "source": [
    "#Plotting Top 10 single edition individual total scores\n",
    "top_10_edition.plot(x=\"batsman\", y=\"runs\", kind=\"bar\");"
   ]
  },
  {
   "cell_type": "code",
   "execution_count": 8,
   "metadata": {},
   "outputs": [
    {
     "data": {
      "image/png": "[encoded data removed]",
      "text/plain": [
       "<Figure size 432x288 with 1 Axes>"
      ]
     },
     "metadata": {
      "needs_background": "light"
     },
     "output_type": "display_data"
    }
   ],
   "source": [
    "#Let's plot the most sixes in IPL overall history\n",
    "most_sixes = batsman.groupby([\"batsman\"])[\"6s\"].sum().sort_values(ascending=False)\n",
    "most_sixes = most_sixes[:10]\n",
    "most_sixes.plot(x=\"batsman\", y=\"No of Sixes\", kind=\"bar\");\n"
   ]
  },
  {
   "cell_type": "code",
   "execution_count": 9,
   "metadata": {},
   "outputs": [
    {
     "data": {
      "text/plain": [
       "<matplotlib.axes._subplots.AxesSubplot at 0x172f841d400>"
      ]
     },
     "execution_count": 9,
     "metadata": {},
     "output_type": "execute_result"
    },
    {
     "data": {
      "image/png": "[encoded data removed]",
      "text/plain": [
       "<Figure size 432x288 with 1 Axes>"
      ]
     },
     "metadata": {
      "needs_background": "light"
     },
     "output_type": "display_data"
    }
   ],
   "source": [
    "# Now let me plot the season wise scores of my favourite player\n",
    "my_fav_player = batsman[batsman[\"batsman\"] == \"MS Dhoni\"].groupby([\"season\"])[\"runs\"].sum()\n",
    "my_fav_player.plot(x=\"season\", y=\"runs\", kind=\"bar\")"
   ]
  },
  {
   "cell_type": "code",
   "execution_count": 10,
   "metadata": {},
   "outputs": [
    {
     "data": {
      "image/png": "[encoded data removed]",
      "text/plain": [
       "<Figure size 432x288 with 1 Axes>"
      ]
     },
     "metadata": {
      "needs_background": "light"
     },
     "output_type": "display_data"
    }
   ],
   "source": [
    "#let us now plot the most Man of the Match awards in IPL\n",
    "mom_awards = df_matches.groupby([\"player_of_match\"])[\"player_of_match\"].count().sort_values(ascending=False)\n",
    "mom_awards_10 = mom_awards[:10]\n",
    "mom_awards_10.plot(kind=\"bar\");"
   ]
  },
  {
   "cell_type": "markdown",
   "metadata": {},
   "source": [
    "So far we had been looking the statistics of a batsman (most runs scored, most sixes, most mom awards....)\n",
    "\n",
    "Now let us see some statistics of a bowler."
   ]
  },
  {
   "cell_type": "code",
   "execution_count": 24,
   "metadata": {},
   "outputs": [
    {
     "data": {
      "text/html": [
       "<div>\n",
       "<style scoped>\n",
       "    .dataframe tbody tr th:only-of-type {\n",
       "        vertical-align: middle;\n",
       "    }\n",
       "\n",
       "    .dataframe tbody tr th {\n",
       "        vertical-align: top;\n",
       "    }\n",
       "\n",
       "    .dataframe thead th {\n",
       "        text-align: right;\n",
       "    }\n",
       "</style>\n",
       "<table border=\"1\" class=\"dataframe\">\n",
       "  <thead>\n",
       "    <tr style=\"text-align: right;\">\n",
       "      <th></th>\n",
       "      <th>bowler</th>\n",
       "      <th>wickets</th>\n",
       "      <th>tot_runs</th>\n",
       "      <th>extras</th>\n",
       "      <th>runs_conceeded</th>\n",
       "      <th>overs</th>\n",
       "      <th>economy</th>\n",
       "    </tr>\n",
       "  </thead>\n",
       "  <tbody>\n",
       "    <tr>\n",
       "      <th>0</th>\n",
       "      <td>A Ashish Reddy</td>\n",
       "      <td>18</td>\n",
       "      <td>400</td>\n",
       "      <td>12</td>\n",
       "      <td>388</td>\n",
       "      <td>45.0</td>\n",
       "      <td>8.62</td>\n",
       "    </tr>\n",
       "    <tr>\n",
       "      <th>1</th>\n",
       "      <td>A Chandila</td>\n",
       "      <td>11</td>\n",
       "      <td>245</td>\n",
       "      <td>3</td>\n",
       "      <td>242</td>\n",
       "      <td>39.0</td>\n",
       "      <td>6.21</td>\n",
       "    </tr>\n",
       "    <tr>\n",
       "      <th>2</th>\n",
       "      <td>A Choudhary</td>\n",
       "      <td>5</td>\n",
       "      <td>144</td>\n",
       "      <td>6</td>\n",
       "      <td>138</td>\n",
       "      <td>18.0</td>\n",
       "      <td>7.67</td>\n",
       "    </tr>\n",
       "    <tr>\n",
       "      <th>3</th>\n",
       "      <td>A Flintoff</td>\n",
       "      <td>2</td>\n",
       "      <td>106</td>\n",
       "      <td>1</td>\n",
       "      <td>105</td>\n",
       "      <td>11.0</td>\n",
       "      <td>9.55</td>\n",
       "    </tr>\n",
       "    <tr>\n",
       "      <th>4</th>\n",
       "      <td>A Kumble</td>\n",
       "      <td>45</td>\n",
       "      <td>1089</td>\n",
       "      <td>57</td>\n",
       "      <td>1032</td>\n",
       "      <td>163.8</td>\n",
       "      <td>6.30</td>\n",
       "    </tr>\n",
       "  </tbody>\n",
       "</table>\n",
       "</div>"
      ],
      "text/plain": [
       "           bowler  wickets  tot_runs  extras  runs_conceeded  overs  economy\n",
       "0  A Ashish Reddy       18       400      12             388   45.0     8.62\n",
       "1      A Chandila       11       245       3             242   39.0     6.21\n",
       "2     A Choudhary        5       144       6             138   18.0     7.67\n",
       "3      A Flintoff        2       106       1             105   11.0     9.55\n",
       "4        A Kumble       45      1089      57            1032  163.8     6.30"
      ]
     },
     "execution_count": 24,
     "metadata": {},
     "output_type": "execute_result"
    }
   ],
   "source": [
    "#A wicket is credited to a bowler only if the dismissal type fall in the following\n",
    "bowler_wickets = [\"bowled\", \"caught\", \"caught and bowled\", \"hit wicket\", \"lbw\", \"stumped\"]\n",
    "\n",
    "#byes, leg-byes doesn't add up to bowlers runs given\n",
    "#byes, leg-byes and wides add up to the extras given by the bowling team\n",
    "bowler = pd.DataFrame()\n",
    "bowler[\"tot_runs\"] = df_deliveries.groupby([\"bowler\"])[\"total_runs\"].sum()\n",
    "bowler_extras = df_deliveries.groupby([\"bowler\"])[[\"wide_runs\",\"bye_runs\",\"legbye_runs\"]].sum()\n",
    "bowler[\"extras\"] = bowler_extras.sum(axis=1)\n",
    "bowler[\"runs_conceeded\"] = bowler[\"tot_runs\"] - bowler[\"extras\"]\n",
    "bowler[\"overs\"] = df_deliveries.groupby([\"bowler\"])[\"over\"].count().div(6).round(1)\n",
    "bowler[\"economy\"] = (bowler[\"runs_conceeded\"] / bowler[\"overs\"]).round(2)\n",
    "dismissals = df_deliveries[df_deliveries[\"dismissal_kind\"].isin(bowler_wickets)]\n",
    "dismissals = dismissals.groupby([\"bowler\"])[\"dismissal_kind\"].count().reset_index()\n",
    "bowler = dismissals.merge(bowler, left_on = [\"bowler\"], right_on = [\"bowler\"], how=\"left\")\n",
    "bowler.rename(columns={\"dismissal_kind\":\"wickets\"}, inplace=True)\n",
    "bowler.head()"
   ]
  },
  {
   "cell_type": "code",
   "execution_count": 35,
   "metadata": {},
   "outputs": [
    {
     "data": {
      "text/plain": [
       "bowler\n",
       "SL Malinga         154\n",
       "A Mishra           134\n",
       "Harbhajan Singh    127\n",
       "PP Chawla          126\n",
       "DJ Bravo           122\n",
       "B Kumar            111\n",
       "A Nehra            106\n",
       "R Vinay Kumar      103\n",
       "Z Khan             102\n",
       "R Ashwin           100\n",
       "Name: wickets, dtype: int64"
      ]
     },
     "execution_count": 35,
     "metadata": {},
     "output_type": "execute_result"
    }
   ],
   "source": [
    "# top wicket taker in IPL\n",
    "top_wicket_10 = bowler.groupby([\"bowler\"])[\"wickets\"].sum().sort_values(ascending=False)[:10]\n",
    "top_wicket_10"
   ]
  },
  {
   "cell_type": "code",
   "execution_count": 37,
   "metadata": {},
   "outputs": [
    {
     "data": {
      "image/png": "[encoded data removed]",
      "text/plain": [
       "<Figure size 432x288 with 1 Axes>"
      ]
     },
     "metadata": {
      "needs_background": "light"
     },
     "output_type": "display_data"
    }
   ],
   "source": [
    "#plot the leading wicket taker in IPL history\n",
    "top_wicket_10.plot(kind=\"bar\");"
   ]
  },
  {
   "cell_type": "code",
   "execution_count": 41,
   "metadata": {},
   "outputs": [
    {
     "data": {
      "image/png": "[encoded data removed]",
      "text/plain": [
       "<Figure size 432x288 with 1 Axes>"
      ]
     },
     "metadata": {
      "needs_background": "light"
     },
     "output_type": "display_data"
    }
   ],
   "source": [
    "#most runs conceeded\n",
    "most_run_given = bowler.groupby([\"bowler\"])[\"runs_conceeded\"].sum().sort_values(ascending=False)[:10]\n",
    "most_run_given.plot(kind=\"bar\");"
   ]
  },
  {
   "cell_type": "code",
   "execution_count": 59,
   "metadata": {},
   "outputs": [],
   "source": [
    "#least economy with atleast min 100 matches played\n",
    "matches = df_deliveries.groupby([\"bowler\"])[\"match_id\"].nunique().reset_index()\n",
    "bowler = matches.merge(bowler, left_on = [\"bowler\"], right_on = [\"bowler\"], how=\"left\")\n",
    "bowler.rename(columns={\"match_id\":\"matches\"},inplace=True)"
   ]
  },
  {
   "cell_type": "code",
   "execution_count": 60,
   "metadata": {},
   "outputs": [
    {
     "data": {
      "text/html": [
       "<div>\n",
       "<style scoped>\n",
       "    .dataframe tbody tr th:only-of-type {\n",
       "        vertical-align: middle;\n",
       "    }\n",
       "\n",
       "    .dataframe tbody tr th {\n",
       "        vertical-align: top;\n",
       "    }\n",
       "\n",
       "    .dataframe thead th {\n",
       "        text-align: right;\n",
       "    }\n",
       "</style>\n",
       "<table border=\"1\" class=\"dataframe\">\n",
       "  <thead>\n",
       "    <tr style=\"text-align: right;\">\n",
       "      <th></th>\n",
       "      <th>bowler</th>\n",
       "      <th>matches</th>\n",
       "      <th>wickets</th>\n",
       "      <th>tot_runs</th>\n",
       "      <th>extras</th>\n",
       "      <th>runs_conceeded</th>\n",
       "      <th>overs</th>\n",
       "      <th>economy</th>\n",
       "    </tr>\n",
       "  </thead>\n",
       "  <tbody>\n",
       "    <tr>\n",
       "      <th>0</th>\n",
       "      <td>A Ashish Reddy</td>\n",
       "      <td>20</td>\n",
       "      <td>18.0</td>\n",
       "      <td>400.0</td>\n",
       "      <td>12.0</td>\n",
       "      <td>388.0</td>\n",
       "      <td>45.0</td>\n",
       "      <td>8.62</td>\n",
       "    </tr>\n",
       "    <tr>\n",
       "      <th>1</th>\n",
       "      <td>A Chandila</td>\n",
       "      <td>12</td>\n",
       "      <td>11.0</td>\n",
       "      <td>245.0</td>\n",
       "      <td>3.0</td>\n",
       "      <td>242.0</td>\n",
       "      <td>39.0</td>\n",
       "      <td>6.21</td>\n",
       "    </tr>\n",
       "    <tr>\n",
       "      <th>2</th>\n",
       "      <td>A Choudhary</td>\n",
       "      <td>5</td>\n",
       "      <td>5.0</td>\n",
       "      <td>144.0</td>\n",
       "      <td>6.0</td>\n",
       "      <td>138.0</td>\n",
       "      <td>18.0</td>\n",
       "      <td>7.67</td>\n",
       "    </tr>\n",
       "    <tr>\n",
       "      <th>3</th>\n",
       "      <td>A Flintoff</td>\n",
       "      <td>3</td>\n",
       "      <td>2.0</td>\n",
       "      <td>106.0</td>\n",
       "      <td>1.0</td>\n",
       "      <td>105.0</td>\n",
       "      <td>11.0</td>\n",
       "      <td>9.55</td>\n",
       "    </tr>\n",
       "    <tr>\n",
       "      <th>4</th>\n",
       "      <td>A Kumble</td>\n",
       "      <td>42</td>\n",
       "      <td>45.0</td>\n",
       "      <td>1089.0</td>\n",
       "      <td>57.0</td>\n",
       "      <td>1032.0</td>\n",
       "      <td>163.8</td>\n",
       "      <td>6.30</td>\n",
       "    </tr>\n",
       "  </tbody>\n",
       "</table>\n",
       "</div>"
      ],
      "text/plain": [
       "           bowler  matches  wickets  tot_runs  extras  runs_conceeded  overs  \\\n",
       "0  A Ashish Reddy       20     18.0     400.0    12.0           388.0   45.0   \n",
       "1      A Chandila       12     11.0     245.0     3.0           242.0   39.0   \n",
       "2     A Choudhary        5      5.0     144.0     6.0           138.0   18.0   \n",
       "3      A Flintoff        3      2.0     106.0     1.0           105.0   11.0   \n",
       "4        A Kumble       42     45.0    1089.0    57.0          1032.0  163.8   \n",
       "\n",
       "   economy  \n",
       "0     8.62  \n",
       "1     6.21  \n",
       "2     7.67  \n",
       "3     9.55  \n",
       "4     6.30  "
      ]
     },
     "execution_count": 60,
     "metadata": {},
     "output_type": "execute_result"
    }
   ],
   "source": [
    "bowler.head()"
   ]
  },
  {
   "cell_type": "code",
   "execution_count": 77,
   "metadata": {},
   "outputs": [
    {
     "data": {
      "image/png": "[encoded data removed]",
      "text/plain": [
       "<Figure size 432x288 with 1 Axes>"
      ]
     },
     "metadata": {
      "needs_background": "light"
     },
     "output_type": "display_data"
    }
   ],
   "source": [
    "least_economy = bowler[bowler[\"matches\"] > 100]\n",
    "least_economy = least_economy.groupby([\"matches\",\"bowler\"])[\"economy\"].sum().sort_values(ascending=True)\n",
    "least_economy.plot(kind=\"bar\");"
   ]
  },
  {
   "cell_type": "code",
   "execution_count": 79,
   "metadata": {},
   "outputs": [
    {
     "data": {
      "image/png": "[encoded data removed]",
      "text/plain": [
       "<Figure size 432x288 with 1 Axes>"
      ]
     },
     "metadata": {
      "needs_background": "light"
     },
     "output_type": "display_data"
    }
   ],
   "source": [
    "#most expensive bowler with min 100 matches\n",
    "high_economy = bowler[bowler[\"matches\"] > 100]\n",
    "high_economy = high_economy.groupby([\"matches\",\"bowler\"])[\"economy\"].sum().sort_values(ascending=False)\n",
    "high_economy.plot(kind=\"bar\");"
   ]
  },
  {
   "cell_type": "markdown",
   "metadata": {},
   "source": [
    "We have looked at some statistical data of both bowlers and batsman.\n",
    "\n",
    "We will now fill the missing values and convert our data to numerical values and proceed in building our model."
   ]
  },
  {
   "cell_type": "code",
   "execution_count": 80,
   "metadata": {},
   "outputs": [
    {
     "data": {
      "text/plain": [
       "id                   0\n",
       "season               0\n",
       "city                 7\n",
       "date                 0\n",
       "team1                0\n",
       "team2                0\n",
       "toss_winner          0\n",
       "toss_decision        0\n",
       "result               0\n",
       "dl_applied           0\n",
       "winner               3\n",
       "win_by_runs          0\n",
       "win_by_wickets       0\n",
       "player_of_match      3\n",
       "venue                0\n",
       "umpire1              1\n",
       "umpire2              1\n",
       "umpire3            636\n",
       "dtype: int64"
      ]
     },
     "execution_count": 80,
     "metadata": {},
     "output_type": "execute_result"
    }
   ],
   "source": [
    "df_matches.isna().sum()"
   ]
  },
  {
   "cell_type": "code",
   "execution_count": 81,
   "metadata": {},
   "outputs": [
    {
     "name": "stdout",
     "output_type": "stream",
     "text": [
      "<class 'pandas.core.frame.DataFrame'>\n",
      "RangeIndex: 636 entries, 0 to 635\n",
      "Data columns (total 18 columns):\n",
      " #   Column           Non-Null Count  Dtype  \n",
      "---  ------           --------------  -----  \n",
      " 0   id               636 non-null    int64  \n",
      " 1   season           636 non-null    int64  \n",
      " 2   city             629 non-null    object \n",
      " 3   date             636 non-null    object \n",
      " 4   team1            636 non-null    object \n",
      " 5   team2            636 non-null    object \n",
      " 6   toss_winner      636 non-null    object \n",
      " 7   toss_decision    636 non-null    object \n",
      " 8   result           636 non-null    object \n",
      " 9   dl_applied       636 non-null    int64  \n",
      " 10  winner           633 non-null    object \n",
      " 11  win_by_runs      636 non-null    int64  \n",
      " 12  win_by_wickets   636 non-null    int64  \n",
      " 13  player_of_match  633 non-null    object \n",
      " 14  venue            636 non-null    object \n",
      " 15  umpire1          635 non-null    object \n",
      " 16  umpire2          635 non-null    object \n",
      " 17  umpire3          0 non-null      float64\n",
      "dtypes: float64(1), int64(5), object(12)\n",
      "memory usage: 89.6+ KB\n"
     ]
    }
   ],
   "source": [
    "df_matches.info()"
   ]
  },
  {
   "cell_type": "markdown",
   "metadata": {},
   "source": [
    "We will fill the missing values with the median of the data as we as we will drop the umpire3 column as it has more missing values.\n",
    "We will also convert the strings to numbers."
   ]
  },
  {
   "cell_type": "code",
   "execution_count": 85,
   "metadata": {},
   "outputs": [
    {
     "name": "stdout",
     "output_type": "stream",
     "text": [
      "<class 'pandas.core.frame.DataFrame'>\n",
      "RangeIndex: 636 entries, 0 to 635\n",
      "Data columns (total 18 columns):\n",
      " #   Column           Non-Null Count  Dtype   \n",
      "---  ------           --------------  -----   \n",
      " 0   id               636 non-null    int64   \n",
      " 1   season           636 non-null    int64   \n",
      " 2   city             629 non-null    category\n",
      " 3   date             636 non-null    category\n",
      " 4   team1            636 non-null    category\n",
      " 5   team2            636 non-null    category\n",
      " 6   toss_winner      636 non-null    category\n",
      " 7   toss_decision    636 non-null    category\n",
      " 8   result           636 non-null    category\n",
      " 9   dl_applied       636 non-null    int64   \n",
      " 10  winner           633 non-null    category\n",
      " 11  win_by_runs      636 non-null    int64   \n",
      " 12  win_by_wickets   636 non-null    int64   \n",
      " 13  player_of_match  633 non-null    category\n",
      " 14  venue            636 non-null    category\n",
      " 15  umpire1          635 non-null    category\n",
      " 16  umpire2          635 non-null    category\n",
      " 17  umpire3          0 non-null      float64 \n",
      "dtypes: category(12), float64(1), int64(5)\n",
      "memory usage: 83.1 KB\n"
     ]
    }
   ],
   "source": [
    "for label, content in df_matches.items():\n",
    "    if pd.api.types.is_string_dtype(content):\n",
    "        df_matches[label] = content.astype(\"category\").cat.as_ordered()\n",
    "df_matches.info()"
   ]
  },
  {
   "cell_type": "markdown",
   "metadata": {},
   "source": [
    "We have converted strings to categories(categories in pandas is one way of converting to numbers)"
   ]
  },
  {
   "cell_type": "code",
   "execution_count": 86,
   "metadata": {},
   "outputs": [
    {
     "data": {
      "text/html": [
       "<div>\n",
       "<style scoped>\n",
       "    .dataframe tbody tr th:only-of-type {\n",
       "        vertical-align: middle;\n",
       "    }\n",
       "\n",
       "    .dataframe tbody tr th {\n",
       "        vertical-align: top;\n",
       "    }\n",
       "\n",
       "    .dataframe thead th {\n",
       "        text-align: right;\n",
       "    }\n",
       "</style>\n",
       "<table border=\"1\" class=\"dataframe\">\n",
       "  <thead>\n",
       "    <tr style=\"text-align: right;\">\n",
       "      <th></th>\n",
       "      <th>id</th>\n",
       "      <th>season</th>\n",
       "      <th>city</th>\n",
       "      <th>date</th>\n",
       "      <th>team1</th>\n",
       "      <th>team2</th>\n",
       "      <th>toss_winner</th>\n",
       "      <th>toss_decision</th>\n",
       "      <th>dl_applied</th>\n",
       "      <th>winner</th>\n",
       "      <th>win_by_runs</th>\n",
       "      <th>win_by_wickets</th>\n",
       "      <th>player_of_match</th>\n",
       "      <th>venue</th>\n",
       "      <th>umpire1</th>\n",
       "      <th>umpire2</th>\n",
       "    </tr>\n",
       "  </thead>\n",
       "  <tbody>\n",
       "    <tr>\n",
       "      <th>0</th>\n",
       "      <td>1</td>\n",
       "      <td>2017</td>\n",
       "      <td>Hyderabad</td>\n",
       "      <td>2017-04-05</td>\n",
       "      <td>Sunrisers Hyderabad</td>\n",
       "      <td>Royal Challengers Bangalore</td>\n",
       "      <td>Royal Challengers Bangalore</td>\n",
       "      <td>field</td>\n",
       "      <td>0</td>\n",
       "      <td>Sunrisers Hyderabad</td>\n",
       "      <td>35</td>\n",
       "      <td>0</td>\n",
       "      <td>Yuvraj Singh</td>\n",
       "      <td>Rajiv Gandhi International Stadium, Uppal</td>\n",
       "      <td>AY Dandekar</td>\n",
       "      <td>NJ Llong</td>\n",
       "    </tr>\n",
       "    <tr>\n",
       "      <th>1</th>\n",
       "      <td>2</td>\n",
       "      <td>2017</td>\n",
       "      <td>Pune</td>\n",
       "      <td>2017-04-06</td>\n",
       "      <td>Mumbai Indians</td>\n",
       "      <td>Rising Pune Supergiant</td>\n",
       "      <td>Rising Pune Supergiant</td>\n",
       "      <td>field</td>\n",
       "      <td>0</td>\n",
       "      <td>Rising Pune Supergiant</td>\n",
       "      <td>0</td>\n",
       "      <td>7</td>\n",
       "      <td>SPD Smith</td>\n",
       "      <td>Maharashtra Cricket Association Stadium</td>\n",
       "      <td>A Nand Kishore</td>\n",
       "      <td>S Ravi</td>\n",
       "    </tr>\n",
       "    <tr>\n",
       "      <th>2</th>\n",
       "      <td>3</td>\n",
       "      <td>2017</td>\n",
       "      <td>Rajkot</td>\n",
       "      <td>2017-04-07</td>\n",
       "      <td>Gujarat Lions</td>\n",
       "      <td>Kolkata Knight Riders</td>\n",
       "      <td>Kolkata Knight Riders</td>\n",
       "      <td>field</td>\n",
       "      <td>0</td>\n",
       "      <td>Kolkata Knight Riders</td>\n",
       "      <td>0</td>\n",
       "      <td>10</td>\n",
       "      <td>CA Lynn</td>\n",
       "      <td>Saurashtra Cricket Association Stadium</td>\n",
       "      <td>Nitin Menon</td>\n",
       "      <td>CK Nandan</td>\n",
       "    </tr>\n",
       "    <tr>\n",
       "      <th>3</th>\n",
       "      <td>4</td>\n",
       "      <td>2017</td>\n",
       "      <td>Indore</td>\n",
       "      <td>2017-04-08</td>\n",
       "      <td>Rising Pune Supergiant</td>\n",
       "      <td>Kings XI Punjab</td>\n",
       "      <td>Kings XI Punjab</td>\n",
       "      <td>field</td>\n",
       "      <td>0</td>\n",
       "      <td>Kings XI Punjab</td>\n",
       "      <td>0</td>\n",
       "      <td>6</td>\n",
       "      <td>GJ Maxwell</td>\n",
       "      <td>Holkar Cricket Stadium</td>\n",
       "      <td>AK Chaudhary</td>\n",
       "      <td>C Shamshuddin</td>\n",
       "    </tr>\n",
       "    <tr>\n",
       "      <th>4</th>\n",
       "      <td>5</td>\n",
       "      <td>2017</td>\n",
       "      <td>Bangalore</td>\n",
       "      <td>2017-04-08</td>\n",
       "      <td>Royal Challengers Bangalore</td>\n",
       "      <td>Delhi Daredevils</td>\n",
       "      <td>Royal Challengers Bangalore</td>\n",
       "      <td>bat</td>\n",
       "      <td>0</td>\n",
       "      <td>Royal Challengers Bangalore</td>\n",
       "      <td>15</td>\n",
       "      <td>0</td>\n",
       "      <td>KM Jadhav</td>\n",
       "      <td>M Chinnaswamy Stadium</td>\n",
       "      <td>NaN</td>\n",
       "      <td>NaN</td>\n",
       "    </tr>\n",
       "  </tbody>\n",
       "</table>\n",
       "</div>"
      ],
      "text/plain": [
       "   id  season       city        date                        team1  \\\n",
       "0   1    2017  Hyderabad  2017-04-05          Sunrisers Hyderabad   \n",
       "1   2    2017       Pune  2017-04-06               Mumbai Indians   \n",
       "2   3    2017     Rajkot  2017-04-07                Gujarat Lions   \n",
       "3   4    2017     Indore  2017-04-08       Rising Pune Supergiant   \n",
       "4   5    2017  Bangalore  2017-04-08  Royal Challengers Bangalore   \n",
       "\n",
       "                         team2                  toss_winner toss_decision  \\\n",
       "0  Royal Challengers Bangalore  Royal Challengers Bangalore         field   \n",
       "1       Rising Pune Supergiant       Rising Pune Supergiant         field   \n",
       "2        Kolkata Knight Riders        Kolkata Knight Riders         field   \n",
       "3              Kings XI Punjab              Kings XI Punjab         field   \n",
       "4             Delhi Daredevils  Royal Challengers Bangalore           bat   \n",
       "\n",
       "   dl_applied                       winner  win_by_runs  win_by_wickets  \\\n",
       "0           0          Sunrisers Hyderabad           35               0   \n",
       "1           0       Rising Pune Supergiant            0               7   \n",
       "2           0        Kolkata Knight Riders            0              10   \n",
       "3           0              Kings XI Punjab            0               6   \n",
       "4           0  Royal Challengers Bangalore           15               0   \n",
       "\n",
       "  player_of_match                                      venue         umpire1  \\\n",
       "0    Yuvraj Singh  Rajiv Gandhi International Stadium, Uppal     AY Dandekar   \n",
       "1       SPD Smith    Maharashtra Cricket Association Stadium  A Nand Kishore   \n",
       "2         CA Lynn     Saurashtra Cricket Association Stadium     Nitin Menon   \n",
       "3      GJ Maxwell                     Holkar Cricket Stadium    AK Chaudhary   \n",
       "4       KM Jadhav                      M Chinnaswamy Stadium             NaN   \n",
       "\n",
       "         umpire2  \n",
       "0       NJ Llong  \n",
       "1         S Ravi  \n",
       "2      CK Nandan  \n",
       "3  C Shamshuddin  \n",
       "4            NaN  "
      ]
     },
     "execution_count": 86,
     "metadata": {},
     "output_type": "execute_result"
    }
   ],
   "source": [
    "df_matches.drop([\"umpire3\",\"result\"],axis=1,inplace=True)\n",
    "df_matches.head()"
   ]
  },
  {
   "cell_type": "code",
   "execution_count": 89,
   "metadata": {},
   "outputs": [],
   "source": [
    "#While filling the missing values we should fill the numerical data and categorical data sepeerately.\n",
    "#Filling Numerical missing data\n",
    "for label, content in df_matches.items():\n",
    "    if pd.api.types.is_numeric_dtype(content):\n",
    "        if pd.isnull(content).sum():\n",
    "            print(label)"
   ]
  },
  {
   "cell_type": "markdown",
   "metadata": {},
   "source": [
    "There's no missing numerical data"
   ]
  },
  {
   "cell_type": "code",
   "execution_count": 91,
   "metadata": {},
   "outputs": [
    {
     "data": {
      "text/plain": [
       "id                 0\n",
       "season             0\n",
       "city               0\n",
       "date               0\n",
       "team1              0\n",
       "team2              0\n",
       "toss_winner        0\n",
       "toss_decision      0\n",
       "dl_applied         0\n",
       "winner             0\n",
       "win_by_runs        0\n",
       "win_by_wickets     0\n",
       "player_of_match    0\n",
       "venue              0\n",
       "umpire1            0\n",
       "umpire2            0\n",
       "dtype: int64"
      ]
     },
     "execution_count": 91,
     "metadata": {},
     "output_type": "execute_result"
    }
   ],
   "source": [
    "#Filling categorical missing data\n",
    "for label, content in df_matches.items():\n",
    "    if not pd.api.types.is_numeric_dtype(content):\n",
    "        df_matches[label] = pd.Categorical(content).codes + 1\n",
    "\n",
    "df_matches.isna().sum()"
   ]
  },
  {
   "cell_type": "markdown",
   "metadata": {},
   "source": [
    "# 5. Modelling"
   ]
  },
  {
   "cell_type": "code",
   "execution_count": 93,
   "metadata": {},
   "outputs": [],
   "source": [
    "#split data into X and y\n",
    "X = df_matches.drop([\"winner\"], axis=1)\n",
    "y = df_matches[\"winner\"]\n",
    "\n",
    "X_train, X_test, y_train, y_test = train_test_split(X,y, test_size=0.2, random_state=42)\n"
   ]
  },
  {
   "cell_type": "code",
   "execution_count": 94,
   "metadata": {},
   "outputs": [],
   "source": [
    "models = {\"LogisticRegression\": LogisticRegression(),\n",
    "          \"KNN\": KNeighborsClassifier(),\n",
    "          \"RandomForestClassifier\": RandomForestClassifier()\n",
    "}\n",
    "\n",
    "#Let's create a function to fit the model and score\n",
    "def fit_score(models,X_train, X_test, y_train, y_test):\n",
    "    \"\"\"\n",
    "    Fits the model with X_train and y_train and evaluates the model with X_test and y_test datasets.\n",
    "    \"\"\"\n",
    "    scores = {}\n",
    "    np.random.seed(42)\n",
    "    for label, model in models.items():\n",
    "        model.fit(X_train, y_train)\n",
    "        scores[label] = model.score(X_test, y_test)\n",
    "    return scores"
   ]
  },
  {
   "cell_type": "code",
   "execution_count": 96,
   "metadata": {},
   "outputs": [
    {
     "name": "stderr",
     "output_type": "stream",
     "text": [
      "C:\\Users\\gselvara\\Documents\\ipl-project\\env\\lib\\site-packages\\sklearn\\linear_model\\_logistic.py:762: ConvergenceWarning: lbfgs failed to converge (status=1):\n",
      "STOP: TOTAL NO. of ITERATIONS REACHED LIMIT.\n",
      "\n",
      "Increase the number of iterations (max_iter) or scale the data as shown in:\n",
      "    https://scikit-learn.org/stable/modules/preprocessing.html\n",
      "Please also refer to the documentation for alternative solver options:\n",
      "    https://scikit-learn.org/stable/modules/linear_model.html#logistic-regression\n",
      "  n_iter_i = _check_optimize_result(\n"
     ]
    },
    {
     "data": {
      "text/plain": [
       "{'LogisticRegression': 0.2734375,\n",
       " 'KNN': 0.1953125,\n",
       " 'RandomForestClassifier': 0.71875}"
      ]
     },
     "execution_count": 96,
     "metadata": {},
     "output_type": "execute_result"
    }
   ],
   "source": [
    "model_scores = fit_score(models,X_train,X_test,y_train,y_test)\n",
    "model_scores"
   ]
  },
  {
   "cell_type": "code",
   "execution_count": 103,
   "metadata": {},
   "outputs": [
    {
     "data": {
      "image/png": "[encoded data removed]",
      "text/plain": [
       "<Figure size 432x288 with 1 Axes>"
      ]
     },
     "metadata": {
      "needs_background": "light"
     },
     "output_type": "display_data"
    }
   ],
   "source": [
    "#comparison of the model's performance\n",
    "model_compare = pd.DataFrame(model_scores, index=[\"Accuracy\"])\n",
    "model_compare.T.plot.bar();"
   ]
  },
  {
   "cell_type": "markdown",
   "metadata": {},
   "source": [
    "Let us improve the model's performance by tuning the hyperparameters!!"
   ]
  },
  {
   "cell_type": "code",
   "execution_count": 104,
   "metadata": {},
   "outputs": [
    {
     "name": "stdout",
     "output_type": "stream",
     "text": [
      "Fitting 5 folds for each of 20 candidates, totalling 100 fits\n"
     ]
    },
    {
     "name": "stderr",
     "output_type": "stream",
     "text": [
      "C:\\Users\\gselvara\\Documents\\ipl-project\\env\\lib\\site-packages\\sklearn\\model_selection\\_split.py:670: UserWarning: The least populated class in y has only 2 members, which is less than n_splits=5.\n",
      "  warnings.warn((\"The least populated class in y has only %d\"\n",
      "[Parallel(n_jobs=1)]: Using backend SequentialBackend with 1 concurrent workers.\n",
      "[Parallel(n_jobs=1)]: Done 100 out of 100 | elapsed:  1.8min finished\n"
     ]
    },
    {
     "data": {
      "text/plain": [
       "RandomizedSearchCV(cv=5, estimator=RandomForestClassifier(), n_iter=20,\n",
       "                   param_distributions={'max_depth': [None, 3, 5, 10],\n",
       "                                        'min_samples_leaf': array([ 1,  3,  5,  7,  9, 11, 13, 15, 17, 19]),\n",
       "                                        'min_samples_split': array([ 2,  4,  6,  8, 10, 12, 14, 16, 18]),\n",
       "                                        'n_estimators': array([ 10,  60, 110, 160, 210, 260, 310, 360, 410, 460, 510, 560, 610,\n",
       "       660, 710, 760, 810, 860, 910, 960])},\n",
       "                   verbose=1)"
      ]
     },
     "execution_count": 104,
     "metadata": {},
     "output_type": "execute_result"
    }
   ],
   "source": [
    "#Hyperparameter tuning using RandomizedSearchCV\n",
    "np.random.seed(42)\n",
    "ran_search_grid = {\"n_estimators\": np.arange(10,1000,50),\n",
    "                   \"max_depth\":[None,3,5,10],\n",
    "                   \"min_samples_split\": np.arange(2,20,2),\n",
    "                   \"min_samples_leaf\": np.arange(1,20,2)} \n",
    "ran_search_cv = RandomizedSearchCV(RandomForestClassifier(),\n",
    "                                   param_distributions=ran_search_grid,\n",
    "                                   cv=5,\n",
    "                                   n_iter=20,\n",
    "                                   verbose=1)\n",
    "ran_search_cv.fit(X_train,y_train)"
   ]
  },
  {
   "cell_type": "code",
   "execution_count": 106,
   "metadata": {},
   "outputs": [
    {
     "data": {
      "text/plain": [
       "{'n_estimators': 510,\n",
       " 'min_samples_split': 14,\n",
       " 'min_samples_leaf': 1,\n",
       " 'max_depth': None}"
      ]
     },
     "execution_count": 106,
     "metadata": {},
     "output_type": "execute_result"
    }
   ],
   "source": [
    "ran_search_cv.best_params_"
   ]
  },
  {
   "cell_type": "code",
   "execution_count": 107,
   "metadata": {},
   "outputs": [
    {
     "data": {
      "text/plain": [
       "0.6953125"
      ]
     },
     "execution_count": 107,
     "metadata": {},
     "output_type": "execute_result"
    }
   ],
   "source": [
    "ran_search_cv.score(X_test, y_test)"
   ]
  },
  {
   "cell_type": "markdown",
   "metadata": {},
   "source": [
    "We could see that our model upon optimizing its hyperparameters via RandomizedSearchCV didnt perform well compared to the base version of our model.\n",
    "\n",
    "Let us check if GridSearchCV could help us improve the accuracy!"
   ]
  },
  {
   "cell_type": "code",
   "execution_count": 108,
   "metadata": {},
   "outputs": [
    {
     "name": "stdout",
     "output_type": "stream",
     "text": [
      "Fitting 5 folds for each of 7200 candidates, totalling 36000 fits\n"
     ]
    },
    {
     "name": "stderr",
     "output_type": "stream",
     "text": [
      "C:\\Users\\gselvara\\Documents\\ipl-project\\env\\lib\\site-packages\\sklearn\\model_selection\\_split.py:670: UserWarning: The least populated class in y has only 2 members, which is less than n_splits=5.\n",
      "  warnings.warn((\"The least populated class in y has only %d\"\n",
      "[Parallel(n_jobs=1)]: Using backend SequentialBackend with 1 concurrent workers.\n",
      "[Parallel(n_jobs=1)]: Done 36000 out of 36000 | elapsed: 657.5min finished\n"
     ]
    },
    {
     "data": {
      "text/plain": [
       "GridSearchCV(cv=5, estimator=RandomForestClassifier(),\n",
       "             param_grid={'max_depth': [None, 3, 5, 10],\n",
       "                         'min_samples_leaf': array([ 1,  3,  5,  7,  9, 11, 13, 15, 17, 19]),\n",
       "                         'min_samples_split': array([ 2,  4,  6,  8, 10, 12, 14, 16, 18]),\n",
       "                         'n_estimators': array([ 10,  60, 110, 160, 210, 260, 310, 360, 410, 460, 510, 560, 610,\n",
       "       660, 710, 760, 810, 860, 910, 960])},\n",
       "             verbose=True)"
      ]
     },
     "execution_count": 108,
     "metadata": {},
     "output_type": "execute_result"
    }
   ],
   "source": [
    "#Hyperparameter tuning using GridSearchCV\n",
    "# grid_search_cv = GridSearchCV(RandomForestClassifier(),\n",
    "#                           param_grid=ran_search_grid,\n",
    "#                           cv=5,\n",
    "#                           verbose=True)\n",
    "# grid_search_cv.fit(X_train, y_train)"
   ]
  },
  {
   "cell_type": "markdown",
   "metadata": {},
   "source": [
    "I have commented the above piece of code as it nearly took me 10hours of time to complete, which is highly not recommended. Choose the hyperparameters wisely and reduce the models run time. This was run just to check the finest hyperparameters to increase the performance of the modelin terms of Accuracy for the Classification problem."
   ]
  },
  {
   "cell_type": "code",
   "execution_count": 109,
   "metadata": {},
   "outputs": [
    {
     "data": {
      "text/plain": [
       "{'max_depth': None,\n",
       " 'min_samples_leaf': 1,\n",
       " 'min_samples_split': 2,\n",
       " 'n_estimators': 360}"
      ]
     },
     "execution_count": 109,
     "metadata": {},
     "output_type": "execute_result"
    }
   ],
   "source": [
    "grid_search_cv.best_params_"
   ]
  },
  {
   "cell_type": "markdown",
   "metadata": {},
   "source": [
    "The best hyperpameters for the RandomForestClassifier is,\n",
    "\n",
    "{'max_depth': None,\n",
    " 'min_samples_leaf': 1,\n",
    " 'min_samples_split': 2,\n",
    " 'n_estimators': 360}"
   ]
  },
  {
   "cell_type": "code",
   "execution_count": 110,
   "metadata": {},
   "outputs": [
    {
     "data": {
      "text/plain": [
       "0.765625"
      ]
     },
     "execution_count": 110,
     "metadata": {},
     "output_type": "execute_result"
    }
   ],
   "source": [
    "grid_search_cv.score(X_test,y_test)"
   ]
  },
  {
   "cell_type": "markdown",
   "metadata": {},
   "source": [
    "We have increased the accuracy from 71% to 76.5% by tuning the hyperparameters.\n",
    "\n",
    "You could also try out some other models to see which best fits our data. I am stoping the experimentation here and will evaluate the model with certain evaluation metrics."
   ]
  },
  {
   "cell_type": "code",
   "execution_count": 112,
   "metadata": {},
   "outputs": [
    {
     "data": {
      "text/plain": [
       "array([ 7, 14, 10,  7,  1,  3,  8,  1, 13,  8, 14,  2,  7,  8,  1,  4, 13,\n",
       "        7,  5,  7,  8, 14,  8,  1,  8,  5,  3,  7,  3,  7,  5,  7,  8,  3,\n",
       "       10,  3,  8,  2,  1,  8,  1,  5,  1, 13, 11, 10,  1,  8,  1,  3,  3,\n",
       "        1,  3,  5,  1,  3,  7,  3,  5,  5, 10,  1,  1,  7, 14, 10,  8, 11,\n",
       "        8,  3,  7,  3, 14,  1,  1, 11,  7,  2,  1, 14, 10,  7,  1,  8, 10,\n",
       "        5,  1, 13, 10, 13,  7, 10, 13, 10,  1,  1, 13,  4,  5, 14,  2, 14,\n",
       "        1, 13,  8,  3,  1, 14,  2,  8,  8, 10,  8, 13,  5, 13,  7,  7,  5,\n",
       "       13,  1,  3, 10,  7,  3,  8,  1, 13], dtype=int8)"
      ]
     },
     "execution_count": 112,
     "metadata": {},
     "output_type": "execute_result"
    }
   ],
   "source": [
    "y_preds = grid_search_cv.predict(X_test)\n",
    "y_preds"
   ]
  },
  {
   "cell_type": "code",
   "execution_count": 114,
   "metadata": {},
   "outputs": [
    {
     "name": "stdout",
     "output_type": "stream",
     "text": [
      "[[ 0  0  0  0  0  0  0  0  0  1  0  0  0]\n",
      " [ 0 22  0  0  0  0  0  0  0  0  0  0  0]\n",
      " [ 0  0  3  1  0  0  0  0  0  0  0  0  0]\n",
      " [ 0  0  0  9  0  0  0  0  0  0  0  0  0]\n",
      " [ 0  0  0  2  2  0  0  1  0  0  0  0  0]\n",
      " [ 0  0  1  1  0  9  0  1  0  0  1  0  0]\n",
      " [ 0  0  1  0  0  0 15  0  0  0  0  1  0]\n",
      " [ 0  1  0  1  0  1  0 11  0  1  0  0  0]\n",
      " [ 0  0  0  0  0  0  0  2  0  0  0  0  0]\n",
      " [ 0  0  0  0  0  0  1  1  0 10  0  1  0]\n",
      " [ 0  0  0  0  0  0  0  1  0  0  2  0  0]\n",
      " [ 0  1  0  1  0  1  1  1  0  0  0  9  3]\n",
      " [ 0  0  0  0  0  0  0  0  0  0  0  1  6]]\n"
     ]
    }
   ],
   "source": [
    "#confusion matrix\n",
    "print(confusion_matrix(y_test, y_preds))"
   ]
  },
  {
   "cell_type": "code",
   "execution_count": 118,
   "metadata": {},
   "outputs": [
    {
     "data": {
      "image/png": "[encoded data removed]",
      "text/plain": [
       "<Figure size 720x720 with 1 Axes>"
      ]
     },
     "metadata": {
      "needs_background": "light"
     },
     "output_type": "display_data"
    }
   ],
   "source": [
    "#plotting confusion matrix using seaborn\n",
    "fig, ax = plt.subplots(figsize=(10,10))\n",
    "ax = sns.heatmap(confusion_matrix(y_test,y_preds),\n",
    "                 annot=True,\n",
    "                 cbar=False)\n",
    "plt.xlabel(\"True value\")\n",
    "plt.ylabel(\"Predicted value\")\n",
    "plt.plot();"
   ]
  },
  {
   "cell_type": "code",
   "execution_count": 119,
   "metadata": {},
   "outputs": [
    {
     "name": "stdout",
     "output_type": "stream",
     "text": [
      "              precision    recall  f1-score   support\n",
      "\n",
      "           0       0.00      0.00      0.00         1\n",
      "           1       0.92      1.00      0.96        22\n",
      "           2       0.60      0.75      0.67         4\n",
      "           3       0.60      1.00      0.75         9\n",
      "           4       1.00      0.40      0.57         5\n",
      "           5       0.82      0.69      0.75        13\n",
      "           7       0.88      0.88      0.88        17\n",
      "           8       0.61      0.73      0.67        15\n",
      "           9       0.00      0.00      0.00         2\n",
      "          10       0.83      0.77      0.80        13\n",
      "          11       0.67      0.67      0.67         3\n",
      "          13       0.75      0.53      0.62        17\n",
      "          14       0.67      0.86      0.75         7\n",
      "\n",
      "    accuracy                           0.77       128\n",
      "   macro avg       0.64      0.64      0.62       128\n",
      "weighted avg       0.77      0.77      0.75       128\n",
      "\n"
     ]
    },
    {
     "name": "stderr",
     "output_type": "stream",
     "text": [
      "C:\\Users\\gselvara\\Documents\\ipl-project\\env\\lib\\site-packages\\sklearn\\metrics\\_classification.py:1221: UndefinedMetricWarning: Precision and F-score are ill-defined and being set to 0.0 in labels with no predicted samples. Use `zero_division` parameter to control this behavior.\n",
      "  _warn_prf(average, modifier, msg_start, len(result))\n"
     ]
    }
   ],
   "source": [
    "#Classification report\n",
    "print(classification_report(y_test, y_preds))"
   ]
  },
  {
   "cell_type": "code",
   "execution_count": 131,
   "metadata": {},
   "outputs": [
    {
     "data": {
      "text/plain": [
       "array([0.07074509, 0.04838723, 0.07057169, 0.07395062, 0.10399044,\n",
       "       0.12364533, 0.09970189, 0.02416229, 0.00179518, 0.0522206 ,\n",
       "       0.05367531, 0.08029177, 0.08470297, 0.05196275, 0.06019686])"
      ]
     },
     "execution_count": 131,
     "metadata": {},
     "output_type": "execute_result"
    }
   ],
   "source": [
    "clf.fit(X_test,y_test)\n",
    "clf.feature_importances_"
   ]
  },
  {
   "cell_type": "code",
   "execution_count": 146,
   "metadata": {},
   "outputs": [
    {
     "data": {
      "text/plain": [
       "{'id': 7.074509231093495,\n",
       " 'season': 4.838722585724171,\n",
       " 'city': 7.057169341814593,\n",
       " 'date': 7.3950619651283915,\n",
       " 'team1': 10.399043777206371,\n",
       " 'team2': 12.364533013723946,\n",
       " 'toss_winner': 9.970188615416683,\n",
       " 'toss_decision': 2.4162285016681695,\n",
       " 'dl_applied': 0.17951800631938564,\n",
       " 'win_by_runs': 5.222060153817854,\n",
       " 'win_by_wickets': 5.3675311570517446,\n",
       " 'player_of_match': 8.029176530743642,\n",
       " 'venue': 8.470296573859383,\n",
       " 'umpire1': 5.196274777639531,\n",
       " 'umpire2': 6.01968576879264}"
      ]
     },
     "execution_count": 146,
     "metadata": {},
     "output_type": "execute_result"
    }
   ],
   "source": [
    "#map feature importance array with its respective column names\n",
    "feat_imp = dict(zip((X.columns),list(clf.feature_importances_ * 100))) \n",
    "feat_imp"
   ]
  },
  {
   "cell_type": "code",
   "execution_count": 178,
   "metadata": {},
   "outputs": [
    {
     "data": {
      "image/png": "[encoded data removed]",
      "text/plain": [
       "<Figure size 432x288 with 1 Axes>"
      ]
     },
     "metadata": {
      "needs_background": "light"
     },
     "output_type": "display_data"
    }
   ],
   "source": [
    "feature_imp = pd.DataFrame(feat_imp,index=[0])#, columns=[X.columns])\n",
    "feature_imp.plot(kind=\"bar\", title =\"Feature Importance\")\n",
    "plt.legend(loc=\"right\",bbox_to_anchor=(1.5, 0.5));\n",
    "# fig, ax = plt.subplots(figsize=(10,10))\n",
    "# ax.plot(feature_imp)#, labels=X.columns)\n",
    "# ax.legend(loc=\"upper center\")\n",
    "# plt.title(\"Feature Importance\")\n",
    "# plt.xlabel(\"Features\")\n",
    "# plt.ylabel(\"Value\")\n",
    "# plt.plot()\n",
    "# feature_imp"
   ]
  },
  {
   "cell_type": "markdown",
   "metadata": {},
   "source": [
    "# 6. Experimentation\n",
    "If you havent hit your evaluation metric yet, ask yourself..\n",
    "\n",
    "could you collect more data?\n",
    "could you try a better model? Like CatBoost or XGBoost?\n",
    "could you improve current models?"
   ]
  },
  {
   "cell_type": "markdown",
   "metadata": {},
   "source": [
    "## Progressing into the next phase of this project, let's see how our Regression model works on predicting the runs leaked by the bowler in IPL."
   ]
  },
  {
   "cell_type": "code",
   "execution_count": 179,
   "metadata": {},
   "outputs": [
    {
     "data": {
      "text/html": [
       "<div>\n",
       "<style scoped>\n",
       "    .dataframe tbody tr th:only-of-type {\n",
       "        vertical-align: middle;\n",
       "    }\n",
       "\n",
       "    .dataframe tbody tr th {\n",
       "        vertical-align: top;\n",
       "    }\n",
       "\n",
       "    .dataframe thead th {\n",
       "        text-align: right;\n",
       "    }\n",
       "</style>\n",
       "<table border=\"1\" class=\"dataframe\">\n",
       "  <thead>\n",
       "    <tr style=\"text-align: right;\">\n",
       "      <th></th>\n",
       "      <th>bowler</th>\n",
       "      <th>matches</th>\n",
       "      <th>wickets</th>\n",
       "      <th>tot_runs</th>\n",
       "      <th>extras</th>\n",
       "      <th>runs_conceeded</th>\n",
       "      <th>overs</th>\n",
       "      <th>economy</th>\n",
       "    </tr>\n",
       "  </thead>\n",
       "  <tbody>\n",
       "    <tr>\n",
       "      <th>0</th>\n",
       "      <td>A Ashish Reddy</td>\n",
       "      <td>20</td>\n",
       "      <td>18.0</td>\n",
       "      <td>400.0</td>\n",
       "      <td>12.0</td>\n",
       "      <td>388.0</td>\n",
       "      <td>45.0</td>\n",
       "      <td>8.62</td>\n",
       "    </tr>\n",
       "    <tr>\n",
       "      <th>1</th>\n",
       "      <td>A Chandila</td>\n",
       "      <td>12</td>\n",
       "      <td>11.0</td>\n",
       "      <td>245.0</td>\n",
       "      <td>3.0</td>\n",
       "      <td>242.0</td>\n",
       "      <td>39.0</td>\n",
       "      <td>6.21</td>\n",
       "    </tr>\n",
       "    <tr>\n",
       "      <th>2</th>\n",
       "      <td>A Choudhary</td>\n",
       "      <td>5</td>\n",
       "      <td>5.0</td>\n",
       "      <td>144.0</td>\n",
       "      <td>6.0</td>\n",
       "      <td>138.0</td>\n",
       "      <td>18.0</td>\n",
       "      <td>7.67</td>\n",
       "    </tr>\n",
       "    <tr>\n",
       "      <th>3</th>\n",
       "      <td>A Flintoff</td>\n",
       "      <td>3</td>\n",
       "      <td>2.0</td>\n",
       "      <td>106.0</td>\n",
       "      <td>1.0</td>\n",
       "      <td>105.0</td>\n",
       "      <td>11.0</td>\n",
       "      <td>9.55</td>\n",
       "    </tr>\n",
       "    <tr>\n",
       "      <th>4</th>\n",
       "      <td>A Kumble</td>\n",
       "      <td>42</td>\n",
       "      <td>45.0</td>\n",
       "      <td>1089.0</td>\n",
       "      <td>57.0</td>\n",
       "      <td>1032.0</td>\n",
       "      <td>163.8</td>\n",
       "      <td>6.30</td>\n",
       "    </tr>\n",
       "  </tbody>\n",
       "</table>\n",
       "</div>"
      ],
      "text/plain": [
       "           bowler  matches  wickets  tot_runs  extras  runs_conceeded  overs  \\\n",
       "0  A Ashish Reddy       20     18.0     400.0    12.0           388.0   45.0   \n",
       "1      A Chandila       12     11.0     245.0     3.0           242.0   39.0   \n",
       "2     A Choudhary        5      5.0     144.0     6.0           138.0   18.0   \n",
       "3      A Flintoff        3      2.0     106.0     1.0           105.0   11.0   \n",
       "4        A Kumble       42     45.0    1089.0    57.0          1032.0  163.8   \n",
       "\n",
       "   economy  \n",
       "0     8.62  \n",
       "1     6.21  \n",
       "2     7.67  \n",
       "3     9.55  \n",
       "4     6.30  "
      ]
     },
     "execution_count": 179,
     "metadata": {},
     "output_type": "execute_result"
    }
   ],
   "source": [
    "bowler.head()"
   ]
  },
  {
   "cell_type": "code",
   "execution_count": 180,
   "metadata": {},
   "outputs": [
    {
     "data": {
      "text/html": [
       "<div>\n",
       "<style scoped>\n",
       "    .dataframe tbody tr th:only-of-type {\n",
       "        vertical-align: middle;\n",
       "    }\n",
       "\n",
       "    .dataframe tbody tr th {\n",
       "        vertical-align: top;\n",
       "    }\n",
       "\n",
       "    .dataframe thead th {\n",
       "        text-align: right;\n",
       "    }\n",
       "</style>\n",
       "<table border=\"1\" class=\"dataframe\">\n",
       "  <thead>\n",
       "    <tr style=\"text-align: right;\">\n",
       "      <th></th>\n",
       "      <th>matches</th>\n",
       "      <th>wickets</th>\n",
       "      <th>extras</th>\n",
       "      <th>runs_conceeded</th>\n",
       "      <th>overs</th>\n",
       "      <th>economy</th>\n",
       "    </tr>\n",
       "  </thead>\n",
       "  <tbody>\n",
       "    <tr>\n",
       "      <th>0</th>\n",
       "      <td>20</td>\n",
       "      <td>18.0</td>\n",
       "      <td>12.0</td>\n",
       "      <td>388.0</td>\n",
       "      <td>45.0</td>\n",
       "      <td>8.62</td>\n",
       "    </tr>\n",
       "    <tr>\n",
       "      <th>1</th>\n",
       "      <td>12</td>\n",
       "      <td>11.0</td>\n",
       "      <td>3.0</td>\n",
       "      <td>242.0</td>\n",
       "      <td>39.0</td>\n",
       "      <td>6.21</td>\n",
       "    </tr>\n",
       "    <tr>\n",
       "      <th>2</th>\n",
       "      <td>5</td>\n",
       "      <td>5.0</td>\n",
       "      <td>6.0</td>\n",
       "      <td>138.0</td>\n",
       "      <td>18.0</td>\n",
       "      <td>7.67</td>\n",
       "    </tr>\n",
       "    <tr>\n",
       "      <th>3</th>\n",
       "      <td>3</td>\n",
       "      <td>2.0</td>\n",
       "      <td>1.0</td>\n",
       "      <td>105.0</td>\n",
       "      <td>11.0</td>\n",
       "      <td>9.55</td>\n",
       "    </tr>\n",
       "    <tr>\n",
       "      <th>4</th>\n",
       "      <td>42</td>\n",
       "      <td>45.0</td>\n",
       "      <td>57.0</td>\n",
       "      <td>1032.0</td>\n",
       "      <td>163.8</td>\n",
       "      <td>6.30</td>\n",
       "    </tr>\n",
       "  </tbody>\n",
       "</table>\n",
       "</div>"
      ],
      "text/plain": [
       "   matches  wickets  extras  runs_conceeded  overs  economy\n",
       "0       20     18.0    12.0           388.0   45.0     8.62\n",
       "1       12     11.0     3.0           242.0   39.0     6.21\n",
       "2        5      5.0     6.0           138.0   18.0     7.67\n",
       "3        3      2.0     1.0           105.0   11.0     9.55\n",
       "4       42     45.0    57.0          1032.0  163.8     6.30"
      ]
     },
     "execution_count": 180,
     "metadata": {},
     "output_type": "execute_result"
    }
   ],
   "source": [
    "bowler_coef = bowler.drop([\"bowler\", \"tot_runs\"], axis=1)\n",
    "bowler_coef.head()"
   ]
  },
  {
   "cell_type": "code",
   "execution_count": 182,
   "metadata": {},
   "outputs": [
    {
     "data": {
      "text/html": [
       "<div>\n",
       "<style scoped>\n",
       "    .dataframe tbody tr th:only-of-type {\n",
       "        vertical-align: middle;\n",
       "    }\n",
       "\n",
       "    .dataframe tbody tr th {\n",
       "        vertical-align: top;\n",
       "    }\n",
       "\n",
       "    .dataframe thead th {\n",
       "        text-align: right;\n",
       "    }\n",
       "</style>\n",
       "<table border=\"1\" class=\"dataframe\">\n",
       "  <thead>\n",
       "    <tr style=\"text-align: right;\">\n",
       "      <th></th>\n",
       "      <th>matches</th>\n",
       "      <th>wickets</th>\n",
       "      <th>extras</th>\n",
       "      <th>runs_conceeded</th>\n",
       "      <th>overs</th>\n",
       "      <th>economy</th>\n",
       "    </tr>\n",
       "  </thead>\n",
       "  <tbody>\n",
       "    <tr>\n",
       "      <th>matches</th>\n",
       "      <td>1.000000</td>\n",
       "      <td>0.951086</td>\n",
       "      <td>0.893340</td>\n",
       "      <td>0.983408</td>\n",
       "      <td>0.982533</td>\n",
       "      <td>-0.198990</td>\n",
       "    </tr>\n",
       "    <tr>\n",
       "      <th>wickets</th>\n",
       "      <td>0.951086</td>\n",
       "      <td>1.000000</td>\n",
       "      <td>0.907776</td>\n",
       "      <td>0.973585</td>\n",
       "      <td>0.978780</td>\n",
       "      <td>-0.219055</td>\n",
       "    </tr>\n",
       "    <tr>\n",
       "      <th>extras</th>\n",
       "      <td>0.893340</td>\n",
       "      <td>0.907776</td>\n",
       "      <td>1.000000</td>\n",
       "      <td>0.919882</td>\n",
       "      <td>0.929335</td>\n",
       "      <td>-0.222318</td>\n",
       "    </tr>\n",
       "    <tr>\n",
       "      <th>runs_conceeded</th>\n",
       "      <td>0.983408</td>\n",
       "      <td>0.973585</td>\n",
       "      <td>0.919882</td>\n",
       "      <td>1.000000</td>\n",
       "      <td>0.995034</td>\n",
       "      <td>-0.180150</td>\n",
       "    </tr>\n",
       "    <tr>\n",
       "      <th>overs</th>\n",
       "      <td>0.982533</td>\n",
       "      <td>0.978780</td>\n",
       "      <td>0.929335</td>\n",
       "      <td>0.995034</td>\n",
       "      <td>1.000000</td>\n",
       "      <td>-0.216761</td>\n",
       "    </tr>\n",
       "    <tr>\n",
       "      <th>economy</th>\n",
       "      <td>-0.198990</td>\n",
       "      <td>-0.219055</td>\n",
       "      <td>-0.222318</td>\n",
       "      <td>-0.180150</td>\n",
       "      <td>-0.216761</td>\n",
       "      <td>1.000000</td>\n",
       "    </tr>\n",
       "  </tbody>\n",
       "</table>\n",
       "</div>"
      ],
      "text/plain": [
       "                 matches   wickets    extras  runs_conceeded     overs  \\\n",
       "matches         1.000000  0.951086  0.893340        0.983408  0.982533   \n",
       "wickets         0.951086  1.000000  0.907776        0.973585  0.978780   \n",
       "extras          0.893340  0.907776  1.000000        0.919882  0.929335   \n",
       "runs_conceeded  0.983408  0.973585  0.919882        1.000000  0.995034   \n",
       "overs           0.982533  0.978780  0.929335        0.995034  1.000000   \n",
       "economy        -0.198990 -0.219055 -0.222318       -0.180150 -0.216761   \n",
       "\n",
       "                 economy  \n",
       "matches        -0.198990  \n",
       "wickets        -0.219055  \n",
       "extras         -0.222318  \n",
       "runs_conceeded -0.180150  \n",
       "overs          -0.216761  \n",
       "economy         1.000000  "
      ]
     },
     "execution_count": 182,
     "metadata": {},
     "output_type": "execute_result"
    }
   ],
   "source": [
    "bowler_coef.corr()"
   ]
  },
  {
   "cell_type": "code",
   "execution_count": 186,
   "metadata": {},
   "outputs": [
    {
     "data": {
      "image/png": "[encoded data removed]",
      "text/plain": [
       "<Figure size 720x720 with 1 Axes>"
      ]
     },
     "metadata": {
      "needs_background": "light"
     },
     "output_type": "display_data"
    }
   ],
   "source": [
    "#plot the correlation matrix\n",
    "fig, ax = plt.subplots(figsize=(10,10))\n",
    "ax= sns.heatmap(bowler_coef.corr(), annot=True, cbar=False, cmap=\"YlGnBu\")\n",
    "plt.title(\"Correlation between the features\");"
   ]
  },
  {
   "cell_type": "code",
   "execution_count": 187,
   "metadata": {},
   "outputs": [
    {
     "data": {
      "text/plain": [
       "bowler             0\n",
       "matches            0\n",
       "wickets           46\n",
       "tot_runs          46\n",
       "extras            46\n",
       "runs_conceeded    46\n",
       "overs             46\n",
       "economy           46\n",
       "dtype: int64"
      ]
     },
     "execution_count": 187,
     "metadata": {},
     "output_type": "execute_result"
    }
   ],
   "source": [
    "bowler.isna().sum()"
   ]
  },
  {
   "cell_type": "code",
   "execution_count": 191,
   "metadata": {},
   "outputs": [
    {
     "name": "stdout",
     "output_type": "stream",
     "text": [
      "<class 'pandas.core.frame.DataFrame'>\n",
      "Int64Index: 356 entries, 0 to 355\n",
      "Data columns (total 8 columns):\n",
      " #   Column          Non-Null Count  Dtype  \n",
      "---  ------          --------------  -----  \n",
      " 0   bowler          356 non-null    object \n",
      " 1   matches         356 non-null    int64  \n",
      " 2   wickets         310 non-null    float64\n",
      " 3   tot_runs        310 non-null    float64\n",
      " 4   extras          310 non-null    float64\n",
      " 5   runs_conceeded  310 non-null    float64\n",
      " 6   overs           310 non-null    float64\n",
      " 7   economy         310 non-null    float64\n",
      "dtypes: float64(6), int64(1), object(1)\n",
      "memory usage: 35.0+ KB\n"
     ]
    }
   ],
   "source": [
    "bowler.info()"
   ]
  },
  {
   "cell_type": "code",
   "execution_count": 195,
   "metadata": {},
   "outputs": [
    {
     "data": {
      "text/html": [
       "<div>\n",
       "<style scoped>\n",
       "    .dataframe tbody tr th:only-of-type {\n",
       "        vertical-align: middle;\n",
       "    }\n",
       "\n",
       "    .dataframe tbody tr th {\n",
       "        vertical-align: top;\n",
       "    }\n",
       "\n",
       "    .dataframe thead th {\n",
       "        text-align: right;\n",
       "    }\n",
       "</style>\n",
       "<table border=\"1\" class=\"dataframe\">\n",
       "  <thead>\n",
       "    <tr style=\"text-align: right;\">\n",
       "      <th></th>\n",
       "      <th>bowler</th>\n",
       "      <th>matches</th>\n",
       "      <th>wickets</th>\n",
       "      <th>tot_runs</th>\n",
       "      <th>extras</th>\n",
       "      <th>runs_conceeded</th>\n",
       "      <th>overs</th>\n",
       "      <th>economy</th>\n",
       "    </tr>\n",
       "  </thead>\n",
       "  <tbody>\n",
       "    <tr>\n",
       "      <th>0</th>\n",
       "      <td>A Ashish Reddy</td>\n",
       "      <td>20</td>\n",
       "      <td>18.0</td>\n",
       "      <td>400.0</td>\n",
       "      <td>12.0</td>\n",
       "      <td>388.0</td>\n",
       "      <td>45.0</td>\n",
       "      <td>8.62</td>\n",
       "    </tr>\n",
       "    <tr>\n",
       "      <th>1</th>\n",
       "      <td>A Chandila</td>\n",
       "      <td>12</td>\n",
       "      <td>11.0</td>\n",
       "      <td>245.0</td>\n",
       "      <td>3.0</td>\n",
       "      <td>242.0</td>\n",
       "      <td>39.0</td>\n",
       "      <td>6.21</td>\n",
       "    </tr>\n",
       "    <tr>\n",
       "      <th>2</th>\n",
       "      <td>A Choudhary</td>\n",
       "      <td>5</td>\n",
       "      <td>5.0</td>\n",
       "      <td>144.0</td>\n",
       "      <td>6.0</td>\n",
       "      <td>138.0</td>\n",
       "      <td>18.0</td>\n",
       "      <td>7.67</td>\n",
       "    </tr>\n",
       "    <tr>\n",
       "      <th>3</th>\n",
       "      <td>A Flintoff</td>\n",
       "      <td>3</td>\n",
       "      <td>2.0</td>\n",
       "      <td>106.0</td>\n",
       "      <td>1.0</td>\n",
       "      <td>105.0</td>\n",
       "      <td>11.0</td>\n",
       "      <td>9.55</td>\n",
       "    </tr>\n",
       "    <tr>\n",
       "      <th>4</th>\n",
       "      <td>A Kumble</td>\n",
       "      <td>42</td>\n",
       "      <td>45.0</td>\n",
       "      <td>1089.0</td>\n",
       "      <td>57.0</td>\n",
       "      <td>1032.0</td>\n",
       "      <td>163.8</td>\n",
       "      <td>6.30</td>\n",
       "    </tr>\n",
       "  </tbody>\n",
       "</table>\n",
       "</div>"
      ],
      "text/plain": [
       "           bowler  matches  wickets  tot_runs  extras  runs_conceeded  overs  \\\n",
       "0  A Ashish Reddy       20     18.0     400.0    12.0           388.0   45.0   \n",
       "1      A Chandila       12     11.0     245.0     3.0           242.0   39.0   \n",
       "2     A Choudhary        5      5.0     144.0     6.0           138.0   18.0   \n",
       "3      A Flintoff        3      2.0     106.0     1.0           105.0   11.0   \n",
       "4        A Kumble       42     45.0    1089.0    57.0          1032.0  163.8   \n",
       "\n",
       "   economy  \n",
       "0     8.62  \n",
       "1     6.21  \n",
       "2     7.67  \n",
       "3     9.55  \n",
       "4     6.30  "
      ]
     },
     "execution_count": 195,
     "metadata": {},
     "output_type": "execute_result"
    }
   ],
   "source": [
    "bow_df = bowler.copy()\n",
    "bow_df.head()"
   ]
  },
  {
   "cell_type": "code",
   "execution_count": 235,
   "metadata": {},
   "outputs": [],
   "source": [
    "# Find the columns that contains strings\n",
    "for label, content in bow_df.items():\n",
    "    if pd.api.types.is_string_dtype(content):\n",
    "        bow_df[label] = content.astype(\"category\").cat.as_ordered()"
   ]
  },
  {
   "cell_type": "code",
   "execution_count": 298,
   "metadata": {},
   "outputs": [
    {
     "ename": "ValueError",
     "evalue": "not enough values to unpack (expected 3, got 1)",
     "output_type": "error",
     "traceback": [
      "\u001b[1;31m---------------------------------------------------------------------------\u001b[0m",
      "\u001b[1;31mValueError\u001b[0m                                Traceback (most recent call last)",
      "\u001b[1;32m<ipython-input-298-ba15e97fe7cb>\u001b[0m in \u001b[0;36m<module>\u001b[1;34m\u001b[0m\n\u001b[0;32m      7\u001b[0m \u001b[0mtransformer\u001b[0m \u001b[1;33m=\u001b[0m \u001b[0mColumnTransformer\u001b[0m\u001b[1;33m(\u001b[0m\u001b[1;34m\"one_hot\"\u001b[0m\u001b[1;33m,\u001b[0m\u001b[0monehot\u001b[0m\u001b[1;33m,\u001b[0m\u001b[0mcategorical_feat\u001b[0m\u001b[1;33m)\u001b[0m\u001b[1;33m\u001b[0m\u001b[1;33m\u001b[0m\u001b[0m\n\u001b[0;32m      8\u001b[0m \u001b[1;31m# labelencoder = LabelEncoder()\u001b[0m\u001b[1;33m\u001b[0m\u001b[1;33m\u001b[0m\u001b[1;33m\u001b[0m\u001b[0m\n\u001b[1;32m----> 9\u001b[1;33m \u001b[0mtransformed_x\u001b[0m \u001b[1;33m=\u001b[0m \u001b[0mtransformer\u001b[0m\u001b[1;33m.\u001b[0m\u001b[0mfit_transform\u001b[0m\u001b[1;33m(\u001b[0m\u001b[0mbowler\u001b[0m\u001b[1;33m)\u001b[0m\u001b[1;33m\u001b[0m\u001b[1;33m\u001b[0m\u001b[0m\n\u001b[0m",
      "\u001b[1;32m~\\Documents\\ipl-project\\env\\lib\\site-packages\\sklearn\\compose\\_column_transformer.py\u001b[0m in \u001b[0;36mfit_transform\u001b[1;34m(self, X, y)\u001b[0m\n\u001b[0;32m    525\u001b[0m         \u001b[1;31m# set n_features_in_ attribute\u001b[0m\u001b[1;33m\u001b[0m\u001b[1;33m\u001b[0m\u001b[1;33m\u001b[0m\u001b[0m\n\u001b[0;32m    526\u001b[0m         \u001b[0mself\u001b[0m\u001b[1;33m.\u001b[0m\u001b[0m_check_n_features\u001b[0m\u001b[1;33m(\u001b[0m\u001b[0mX\u001b[0m\u001b[1;33m,\u001b[0m \u001b[0mreset\u001b[0m\u001b[1;33m=\u001b[0m\u001b[1;32mTrue\u001b[0m\u001b[1;33m)\u001b[0m\u001b[1;33m\u001b[0m\u001b[1;33m\u001b[0m\u001b[0m\n\u001b[1;32m--> 527\u001b[1;33m         \u001b[0mself\u001b[0m\u001b[1;33m.\u001b[0m\u001b[0m_validate_transformers\u001b[0m\u001b[1;33m(\u001b[0m\u001b[1;33m)\u001b[0m\u001b[1;33m\u001b[0m\u001b[1;33m\u001b[0m\u001b[0m\n\u001b[0m\u001b[0;32m    528\u001b[0m         \u001b[0mself\u001b[0m\u001b[1;33m.\u001b[0m\u001b[0m_validate_column_callables\u001b[0m\u001b[1;33m(\u001b[0m\u001b[0mX\u001b[0m\u001b[1;33m)\u001b[0m\u001b[1;33m\u001b[0m\u001b[1;33m\u001b[0m\u001b[0m\n\u001b[0;32m    529\u001b[0m         \u001b[0mself\u001b[0m\u001b[1;33m.\u001b[0m\u001b[0m_validate_remainder\u001b[0m\u001b[1;33m(\u001b[0m\u001b[0mX\u001b[0m\u001b[1;33m)\u001b[0m\u001b[1;33m\u001b[0m\u001b[1;33m\u001b[0m\u001b[0m\n",
      "\u001b[1;32m~\\Documents\\ipl-project\\env\\lib\\site-packages\\sklearn\\compose\\_column_transformer.py\u001b[0m in \u001b[0;36m_validate_transformers\u001b[1;34m(self)\u001b[0m\n\u001b[0;32m    274\u001b[0m             \u001b[1;32mreturn\u001b[0m\u001b[1;33m\u001b[0m\u001b[1;33m\u001b[0m\u001b[0m\n\u001b[0;32m    275\u001b[0m \u001b[1;33m\u001b[0m\u001b[0m\n\u001b[1;32m--> 276\u001b[1;33m         \u001b[0mnames\u001b[0m\u001b[1;33m,\u001b[0m \u001b[0mtransformers\u001b[0m\u001b[1;33m,\u001b[0m \u001b[0m_\u001b[0m \u001b[1;33m=\u001b[0m \u001b[0mzip\u001b[0m\u001b[1;33m(\u001b[0m\u001b[1;33m*\u001b[0m\u001b[0mself\u001b[0m\u001b[1;33m.\u001b[0m\u001b[0mtransformers\u001b[0m\u001b[1;33m)\u001b[0m\u001b[1;33m\u001b[0m\u001b[1;33m\u001b[0m\u001b[0m\n\u001b[0m\u001b[0;32m    277\u001b[0m \u001b[1;33m\u001b[0m\u001b[0m\n\u001b[0;32m    278\u001b[0m         \u001b[1;31m# validate names\u001b[0m\u001b[1;33m\u001b[0m\u001b[1;33m\u001b[0m\u001b[1;33m\u001b[0m\u001b[0m\n",
      "\u001b[1;31mValueError\u001b[0m: not enough values to unpack (expected 3, got 1)"
     ]
    }
   ],
   "source": [
    "from sklearn.preprocessing import OneHotEncoder, LabelEncoder\n",
    "from sklearn.compose import ColumnTransformer\n",
    "from sklearn.impute import SimpleImputer\n",
    "\n",
    "categorical_feat = [\"bowler\"]\n",
    "onehot = OneHotEncoder()\n",
    "transformer = ColumnTransformer(\"one_hot\",onehot,categorical_feat)\n",
    "# labelencoder = LabelEncoder()\n",
    "transformed_x = transformer.fit_transform(bowler)"
   ]
  },
  {
   "cell_type": "code",
   "execution_count": 254,
   "metadata": {},
   "outputs": [],
   "source": [
    "#let's fill the missing values\n",
    "for label, content in bow_df.items():\n",
    "    if pd.api.types.is_numeric_dtype(content):\n",
    "        if pd.isnull(content).sum():\n",
    "            bow_df[label] = pd.Categorical(content).codes + 1"
   ]
  },
  {
   "cell_type": "code",
   "execution_count": 255,
   "metadata": {},
   "outputs": [
    {
     "data": {
      "text/html": [
       "<div>\n",
       "<style scoped>\n",
       "    .dataframe tbody tr th:only-of-type {\n",
       "        vertical-align: middle;\n",
       "    }\n",
       "\n",
       "    .dataframe tbody tr th {\n",
       "        vertical-align: top;\n",
       "    }\n",
       "\n",
       "    .dataframe thead th {\n",
       "        text-align: right;\n",
       "    }\n",
       "</style>\n",
       "<table border=\"1\" class=\"dataframe\">\n",
       "  <thead>\n",
       "    <tr style=\"text-align: right;\">\n",
       "      <th></th>\n",
       "      <th>bowler</th>\n",
       "      <th>matches</th>\n",
       "      <th>wickets</th>\n",
       "      <th>tot_runs</th>\n",
       "      <th>extras</th>\n",
       "      <th>runs_conceeded</th>\n",
       "      <th>overs</th>\n",
       "      <th>economy</th>\n",
       "    </tr>\n",
       "  </thead>\n",
       "  <tbody>\n",
       "    <tr>\n",
       "      <th>0</th>\n",
       "      <td>A Ashish Reddy</td>\n",
       "      <td>20</td>\n",
       "      <td>18</td>\n",
       "      <td>147</td>\n",
       "      <td>13</td>\n",
       "      <td>146</td>\n",
       "      <td>115</td>\n",
       "      <td>165</td>\n",
       "    </tr>\n",
       "    <tr>\n",
       "      <th>1</th>\n",
       "      <td>A Chandila</td>\n",
       "      <td>12</td>\n",
       "      <td>11</td>\n",
       "      <td>101</td>\n",
       "      <td>4</td>\n",
       "      <td>107</td>\n",
       "      <td>100</td>\n",
       "      <td>20</td>\n",
       "    </tr>\n",
       "    <tr>\n",
       "      <th>2</th>\n",
       "      <td>A Choudhary</td>\n",
       "      <td>5</td>\n",
       "      <td>5</td>\n",
       "      <td>62</td>\n",
       "      <td>7</td>\n",
       "      <td>65</td>\n",
       "      <td>49</td>\n",
       "      <td>107</td>\n",
       "    </tr>\n",
       "    <tr>\n",
       "      <th>3</th>\n",
       "      <td>A Flintoff</td>\n",
       "      <td>3</td>\n",
       "      <td>2</td>\n",
       "      <td>49</td>\n",
       "      <td>2</td>\n",
       "      <td>52</td>\n",
       "      <td>29</td>\n",
       "      <td>188</td>\n",
       "    </tr>\n",
       "    <tr>\n",
       "      <th>4</th>\n",
       "      <td>A Kumble</td>\n",
       "      <td>42</td>\n",
       "      <td>41</td>\n",
       "      <td>213</td>\n",
       "      <td>53</td>\n",
       "      <td>211</td>\n",
       "      <td>198</td>\n",
       "      <td>23</td>\n",
       "    </tr>\n",
       "  </tbody>\n",
       "</table>\n",
       "</div>"
      ],
      "text/plain": [
       "           bowler  matches  wickets  tot_runs  extras  runs_conceeded  overs  \\\n",
       "0  A Ashish Reddy       20       18       147      13             146    115   \n",
       "1      A Chandila       12       11       101       4             107    100   \n",
       "2     A Choudhary        5        5        62       7              65     49   \n",
       "3      A Flintoff        3        2        49       2              52     29   \n",
       "4        A Kumble       42       41       213      53             211    198   \n",
       "\n",
       "   economy  \n",
       "0      165  \n",
       "1       20  \n",
       "2      107  \n",
       "3      188  \n",
       "4       23  "
      ]
     },
     "execution_count": 255,
     "metadata": {},
     "output_type": "execute_result"
    }
   ],
   "source": [
    "bow_df.head()"
   ]
  },
  {
   "cell_type": "code",
   "execution_count": 257,
   "metadata": {},
   "outputs": [
    {
     "ename": "ValueError",
     "evalue": "Found input variables with inconsistent numbers of samples: [1, 356]",
     "output_type": "error",
     "traceback": [
      "\u001b[1;31m---------------------------------------------------------------------------\u001b[0m",
      "\u001b[1;31mValueError\u001b[0m                                Traceback (most recent call last)",
      "\u001b[1;32m<ipython-input-257-bde0813ae6f6>\u001b[0m in \u001b[0;36m<module>\u001b[1;34m\u001b[0m\n\u001b[0;32m      6\u001b[0m \u001b[0my\u001b[0m \u001b[1;33m=\u001b[0m \u001b[0mbow_df\u001b[0m\u001b[1;33m[\u001b[0m\u001b[1;34m\"runs_conceeded\"\u001b[0m\u001b[1;33m]\u001b[0m\u001b[1;33m\u001b[0m\u001b[1;33m\u001b[0m\u001b[0m\n\u001b[0;32m      7\u001b[0m \u001b[1;33m\u001b[0m\u001b[0m\n\u001b[1;32m----> 8\u001b[1;33m \u001b[0mX_train\u001b[0m\u001b[1;33m,\u001b[0m\u001b[0mX_test\u001b[0m\u001b[1;33m,\u001b[0m\u001b[0my_train\u001b[0m\u001b[1;33m,\u001b[0m\u001b[0my_test\u001b[0m \u001b[1;33m=\u001b[0m \u001b[0mtrain_test_split\u001b[0m\u001b[1;33m(\u001b[0m\u001b[0mX\u001b[0m\u001b[1;33m,\u001b[0m\u001b[0my\u001b[0m\u001b[1;33m,\u001b[0m\u001b[0mtest_size\u001b[0m\u001b[1;33m=\u001b[0m\u001b[1;36m0.2\u001b[0m\u001b[1;33m,\u001b[0m\u001b[0mrandom_state\u001b[0m\u001b[1;33m=\u001b[0m\u001b[1;36m42\u001b[0m\u001b[1;33m)\u001b[0m\u001b[1;33m\u001b[0m\u001b[1;33m\u001b[0m\u001b[0m\n\u001b[0m",
      "\u001b[1;32m~\\Documents\\ipl-project\\env\\lib\\site-packages\\sklearn\\model_selection\\_split.py\u001b[0m in \u001b[0;36mtrain_test_split\u001b[1;34m(*arrays, **options)\u001b[0m\n\u001b[0;32m   2125\u001b[0m         \u001b[1;32mraise\u001b[0m \u001b[0mTypeError\u001b[0m\u001b[1;33m(\u001b[0m\u001b[1;34m\"Invalid parameters passed: %s\"\u001b[0m \u001b[1;33m%\u001b[0m \u001b[0mstr\u001b[0m\u001b[1;33m(\u001b[0m\u001b[0moptions\u001b[0m\u001b[1;33m)\u001b[0m\u001b[1;33m)\u001b[0m\u001b[1;33m\u001b[0m\u001b[1;33m\u001b[0m\u001b[0m\n\u001b[0;32m   2126\u001b[0m \u001b[1;33m\u001b[0m\u001b[0m\n\u001b[1;32m-> 2127\u001b[1;33m     \u001b[0marrays\u001b[0m \u001b[1;33m=\u001b[0m \u001b[0mindexable\u001b[0m\u001b[1;33m(\u001b[0m\u001b[1;33m*\u001b[0m\u001b[0marrays\u001b[0m\u001b[1;33m)\u001b[0m\u001b[1;33m\u001b[0m\u001b[1;33m\u001b[0m\u001b[0m\n\u001b[0m\u001b[0;32m   2128\u001b[0m \u001b[1;33m\u001b[0m\u001b[0m\n\u001b[0;32m   2129\u001b[0m     \u001b[0mn_samples\u001b[0m \u001b[1;33m=\u001b[0m \u001b[0m_num_samples\u001b[0m\u001b[1;33m(\u001b[0m\u001b[0marrays\u001b[0m\u001b[1;33m[\u001b[0m\u001b[1;36m0\u001b[0m\u001b[1;33m]\u001b[0m\u001b[1;33m)\u001b[0m\u001b[1;33m\u001b[0m\u001b[1;33m\u001b[0m\u001b[0m\n",
      "\u001b[1;32m~\\Documents\\ipl-project\\env\\lib\\site-packages\\sklearn\\utils\\validation.py\u001b[0m in \u001b[0;36mindexable\u001b[1;34m(*iterables)\u001b[0m\n\u001b[0;32m    291\u001b[0m     \"\"\"\n\u001b[0;32m    292\u001b[0m     \u001b[0mresult\u001b[0m \u001b[1;33m=\u001b[0m \u001b[1;33m[\u001b[0m\u001b[0m_make_indexable\u001b[0m\u001b[1;33m(\u001b[0m\u001b[0mX\u001b[0m\u001b[1;33m)\u001b[0m \u001b[1;32mfor\u001b[0m \u001b[0mX\u001b[0m \u001b[1;32min\u001b[0m \u001b[0miterables\u001b[0m\u001b[1;33m]\u001b[0m\u001b[1;33m\u001b[0m\u001b[1;33m\u001b[0m\u001b[0m\n\u001b[1;32m--> 293\u001b[1;33m     \u001b[0mcheck_consistent_length\u001b[0m\u001b[1;33m(\u001b[0m\u001b[1;33m*\u001b[0m\u001b[0mresult\u001b[0m\u001b[1;33m)\u001b[0m\u001b[1;33m\u001b[0m\u001b[1;33m\u001b[0m\u001b[0m\n\u001b[0m\u001b[0;32m    294\u001b[0m     \u001b[1;32mreturn\u001b[0m \u001b[0mresult\u001b[0m\u001b[1;33m\u001b[0m\u001b[1;33m\u001b[0m\u001b[0m\n\u001b[0;32m    295\u001b[0m \u001b[1;33m\u001b[0m\u001b[0m\n",
      "\u001b[1;32m~\\Documents\\ipl-project\\env\\lib\\site-packages\\sklearn\\utils\\validation.py\u001b[0m in \u001b[0;36mcheck_consistent_length\u001b[1;34m(*arrays)\u001b[0m\n\u001b[0;32m    254\u001b[0m     \u001b[0muniques\u001b[0m \u001b[1;33m=\u001b[0m \u001b[0mnp\u001b[0m\u001b[1;33m.\u001b[0m\u001b[0munique\u001b[0m\u001b[1;33m(\u001b[0m\u001b[0mlengths\u001b[0m\u001b[1;33m)\u001b[0m\u001b[1;33m\u001b[0m\u001b[1;33m\u001b[0m\u001b[0m\n\u001b[0;32m    255\u001b[0m     \u001b[1;32mif\u001b[0m \u001b[0mlen\u001b[0m\u001b[1;33m(\u001b[0m\u001b[0muniques\u001b[0m\u001b[1;33m)\u001b[0m \u001b[1;33m>\u001b[0m \u001b[1;36m1\u001b[0m\u001b[1;33m:\u001b[0m\u001b[1;33m\u001b[0m\u001b[1;33m\u001b[0m\u001b[0m\n\u001b[1;32m--> 256\u001b[1;33m         raise ValueError(\"Found input variables with inconsistent numbers of\"\n\u001b[0m\u001b[0;32m    257\u001b[0m                          \" samples: %r\" % [int(l) for l in lengths])\n\u001b[0;32m    258\u001b[0m \u001b[1;33m\u001b[0m\u001b[0m\n",
      "\u001b[1;31mValueError\u001b[0m: Found input variables with inconsistent numbers of samples: [1, 356]"
     ]
    }
   ],
   "source": [
    "#Let us start modelling\n",
    "from sklearn.ensemble import RandomForestRegressor\n",
    "from sklearn.linear_model import LinearRegression\n",
    "\n",
    "X = transformed_x\n",
    "y = bow_df[\"runs_conceeded\"]\n",
    "\n",
    "X_train,X_test,y_train,y_test = train_test_split(X,y,test_size=0.2,random_state=42)"
   ]
  },
  {
   "cell_type": "code",
   "execution_count": 241,
   "metadata": {},
   "outputs": [],
   "source": [
    "models = {\"RandomForestRegressor\": RandomForestRegressor(),\n",
    "          \"LinearRegression\": LinearRegression()}\n",
    "\n",
    "def reg_model_eva(model,X_train,X_test,y_train,y_test):\n",
    "    \"\"\"\n",
    "    Trains and Evaluates the Regression model\n",
    "    \"\"\"\n",
    "    np.random.seed(42)\n",
    "    reg_scores={}\n",
    "    for label, model in models.items():\n",
    "        model.fit(X_train,y_train)\n",
    "        reg_scores[label]=model.score(X_test,y_test)\n",
    "    return reg_scores"
   ]
  },
  {
   "cell_type": "code",
   "execution_count": 242,
   "metadata": {},
   "outputs": [
    {
     "ename": "ValueError",
     "evalue": "could not convert string to float: 'WD Parnell'",
     "output_type": "error",
     "traceback": [
      "\u001b[1;31m---------------------------------------------------------------------------\u001b[0m",
      "\u001b[1;31mValueError\u001b[0m                                Traceback (most recent call last)",
      "\u001b[1;32m<ipython-input-242-a2ed363e5ab3>\u001b[0m in \u001b[0;36m<module>\u001b[1;34m\u001b[0m\n\u001b[0;32m      2\u001b[0m \u001b[1;31m# X_train.info()\u001b[0m\u001b[1;33m\u001b[0m\u001b[1;33m\u001b[0m\u001b[1;33m\u001b[0m\u001b[0m\n\u001b[0;32m      3\u001b[0m \u001b[0mmodel\u001b[0m \u001b[1;33m=\u001b[0m \u001b[0mRandomForestRegressor\u001b[0m\u001b[1;33m(\u001b[0m\u001b[1;33m)\u001b[0m\u001b[1;33m\u001b[0m\u001b[1;33m\u001b[0m\u001b[0m\n\u001b[1;32m----> 4\u001b[1;33m \u001b[0mmodel\u001b[0m\u001b[1;33m.\u001b[0m\u001b[0mfit\u001b[0m\u001b[1;33m(\u001b[0m\u001b[0mX_train\u001b[0m\u001b[1;33m,\u001b[0m\u001b[0my_train\u001b[0m\u001b[1;33m)\u001b[0m\u001b[1;33m\u001b[0m\u001b[1;33m\u001b[0m\u001b[0m\n\u001b[0m",
      "\u001b[1;32m~\\Documents\\ipl-project\\env\\lib\\site-packages\\sklearn\\ensemble\\_forest.py\u001b[0m in \u001b[0;36mfit\u001b[1;34m(self, X, y, sample_weight)\u001b[0m\n\u001b[0;32m    301\u001b[0m                 \u001b[1;34m\"sparse multilabel-indicator for y is not supported.\"\u001b[0m\u001b[1;33m\u001b[0m\u001b[1;33m\u001b[0m\u001b[0m\n\u001b[0;32m    302\u001b[0m             )\n\u001b[1;32m--> 303\u001b[1;33m         X, y = self._validate_data(X, y, multi_output=True,\n\u001b[0m\u001b[0;32m    304\u001b[0m                                    accept_sparse=\"csc\", dtype=DTYPE)\n\u001b[0;32m    305\u001b[0m         \u001b[1;32mif\u001b[0m \u001b[0msample_weight\u001b[0m \u001b[1;32mis\u001b[0m \u001b[1;32mnot\u001b[0m \u001b[1;32mNone\u001b[0m\u001b[1;33m:\u001b[0m\u001b[1;33m\u001b[0m\u001b[1;33m\u001b[0m\u001b[0m\n",
      "\u001b[1;32m~\\Documents\\ipl-project\\env\\lib\\site-packages\\sklearn\\base.py\u001b[0m in \u001b[0;36m_validate_data\u001b[1;34m(self, X, y, reset, validate_separately, **check_params)\u001b[0m\n\u001b[0;32m    430\u001b[0m                 \u001b[0my\u001b[0m \u001b[1;33m=\u001b[0m \u001b[0mcheck_array\u001b[0m\u001b[1;33m(\u001b[0m\u001b[0my\u001b[0m\u001b[1;33m,\u001b[0m \u001b[1;33m**\u001b[0m\u001b[0mcheck_y_params\u001b[0m\u001b[1;33m)\u001b[0m\u001b[1;33m\u001b[0m\u001b[1;33m\u001b[0m\u001b[0m\n\u001b[0;32m    431\u001b[0m             \u001b[1;32melse\u001b[0m\u001b[1;33m:\u001b[0m\u001b[1;33m\u001b[0m\u001b[1;33m\u001b[0m\u001b[0m\n\u001b[1;32m--> 432\u001b[1;33m                 \u001b[0mX\u001b[0m\u001b[1;33m,\u001b[0m \u001b[0my\u001b[0m \u001b[1;33m=\u001b[0m \u001b[0mcheck_X_y\u001b[0m\u001b[1;33m(\u001b[0m\u001b[0mX\u001b[0m\u001b[1;33m,\u001b[0m \u001b[0my\u001b[0m\u001b[1;33m,\u001b[0m \u001b[1;33m**\u001b[0m\u001b[0mcheck_params\u001b[0m\u001b[1;33m)\u001b[0m\u001b[1;33m\u001b[0m\u001b[1;33m\u001b[0m\u001b[0m\n\u001b[0m\u001b[0;32m    433\u001b[0m             \u001b[0mout\u001b[0m \u001b[1;33m=\u001b[0m \u001b[0mX\u001b[0m\u001b[1;33m,\u001b[0m \u001b[0my\u001b[0m\u001b[1;33m\u001b[0m\u001b[1;33m\u001b[0m\u001b[0m\n\u001b[0;32m    434\u001b[0m \u001b[1;33m\u001b[0m\u001b[0m\n",
      "\u001b[1;32m~\\Documents\\ipl-project\\env\\lib\\site-packages\\sklearn\\utils\\validation.py\u001b[0m in \u001b[0;36minner_f\u001b[1;34m(*args, **kwargs)\u001b[0m\n\u001b[0;32m     71\u001b[0m                           FutureWarning)\n\u001b[0;32m     72\u001b[0m         \u001b[0mkwargs\u001b[0m\u001b[1;33m.\u001b[0m\u001b[0mupdate\u001b[0m\u001b[1;33m(\u001b[0m\u001b[1;33m{\u001b[0m\u001b[0mk\u001b[0m\u001b[1;33m:\u001b[0m \u001b[0marg\u001b[0m \u001b[1;32mfor\u001b[0m \u001b[0mk\u001b[0m\u001b[1;33m,\u001b[0m \u001b[0marg\u001b[0m \u001b[1;32min\u001b[0m \u001b[0mzip\u001b[0m\u001b[1;33m(\u001b[0m\u001b[0msig\u001b[0m\u001b[1;33m.\u001b[0m\u001b[0mparameters\u001b[0m\u001b[1;33m,\u001b[0m \u001b[0margs\u001b[0m\u001b[1;33m)\u001b[0m\u001b[1;33m}\u001b[0m\u001b[1;33m)\u001b[0m\u001b[1;33m\u001b[0m\u001b[1;33m\u001b[0m\u001b[0m\n\u001b[1;32m---> 73\u001b[1;33m         \u001b[1;32mreturn\u001b[0m \u001b[0mf\u001b[0m\u001b[1;33m(\u001b[0m\u001b[1;33m**\u001b[0m\u001b[0mkwargs\u001b[0m\u001b[1;33m)\u001b[0m\u001b[1;33m\u001b[0m\u001b[1;33m\u001b[0m\u001b[0m\n\u001b[0m\u001b[0;32m     74\u001b[0m     \u001b[1;32mreturn\u001b[0m \u001b[0minner_f\u001b[0m\u001b[1;33m\u001b[0m\u001b[1;33m\u001b[0m\u001b[0m\n\u001b[0;32m     75\u001b[0m \u001b[1;33m\u001b[0m\u001b[0m\n",
      "\u001b[1;32m~\\Documents\\ipl-project\\env\\lib\\site-packages\\sklearn\\utils\\validation.py\u001b[0m in \u001b[0;36mcheck_X_y\u001b[1;34m(X, y, accept_sparse, accept_large_sparse, dtype, order, copy, force_all_finite, ensure_2d, allow_nd, multi_output, ensure_min_samples, ensure_min_features, y_numeric, estimator)\u001b[0m\n\u001b[0;32m    794\u001b[0m         \u001b[1;32mraise\u001b[0m \u001b[0mValueError\u001b[0m\u001b[1;33m(\u001b[0m\u001b[1;34m\"y cannot be None\"\u001b[0m\u001b[1;33m)\u001b[0m\u001b[1;33m\u001b[0m\u001b[1;33m\u001b[0m\u001b[0m\n\u001b[0;32m    795\u001b[0m \u001b[1;33m\u001b[0m\u001b[0m\n\u001b[1;32m--> 796\u001b[1;33m     X = check_array(X, accept_sparse=accept_sparse,\n\u001b[0m\u001b[0;32m    797\u001b[0m                     \u001b[0maccept_large_sparse\u001b[0m\u001b[1;33m=\u001b[0m\u001b[0maccept_large_sparse\u001b[0m\u001b[1;33m,\u001b[0m\u001b[1;33m\u001b[0m\u001b[1;33m\u001b[0m\u001b[0m\n\u001b[0;32m    798\u001b[0m                     \u001b[0mdtype\u001b[0m\u001b[1;33m=\u001b[0m\u001b[0mdtype\u001b[0m\u001b[1;33m,\u001b[0m \u001b[0morder\u001b[0m\u001b[1;33m=\u001b[0m\u001b[0morder\u001b[0m\u001b[1;33m,\u001b[0m \u001b[0mcopy\u001b[0m\u001b[1;33m=\u001b[0m\u001b[0mcopy\u001b[0m\u001b[1;33m,\u001b[0m\u001b[1;33m\u001b[0m\u001b[1;33m\u001b[0m\u001b[0m\n",
      "\u001b[1;32m~\\Documents\\ipl-project\\env\\lib\\site-packages\\sklearn\\utils\\validation.py\u001b[0m in \u001b[0;36minner_f\u001b[1;34m(*args, **kwargs)\u001b[0m\n\u001b[0;32m     71\u001b[0m                           FutureWarning)\n\u001b[0;32m     72\u001b[0m         \u001b[0mkwargs\u001b[0m\u001b[1;33m.\u001b[0m\u001b[0mupdate\u001b[0m\u001b[1;33m(\u001b[0m\u001b[1;33m{\u001b[0m\u001b[0mk\u001b[0m\u001b[1;33m:\u001b[0m \u001b[0marg\u001b[0m \u001b[1;32mfor\u001b[0m \u001b[0mk\u001b[0m\u001b[1;33m,\u001b[0m \u001b[0marg\u001b[0m \u001b[1;32min\u001b[0m \u001b[0mzip\u001b[0m\u001b[1;33m(\u001b[0m\u001b[0msig\u001b[0m\u001b[1;33m.\u001b[0m\u001b[0mparameters\u001b[0m\u001b[1;33m,\u001b[0m \u001b[0margs\u001b[0m\u001b[1;33m)\u001b[0m\u001b[1;33m}\u001b[0m\u001b[1;33m)\u001b[0m\u001b[1;33m\u001b[0m\u001b[1;33m\u001b[0m\u001b[0m\n\u001b[1;32m---> 73\u001b[1;33m         \u001b[1;32mreturn\u001b[0m \u001b[0mf\u001b[0m\u001b[1;33m(\u001b[0m\u001b[1;33m**\u001b[0m\u001b[0mkwargs\u001b[0m\u001b[1;33m)\u001b[0m\u001b[1;33m\u001b[0m\u001b[1;33m\u001b[0m\u001b[0m\n\u001b[0m\u001b[0;32m     74\u001b[0m     \u001b[1;32mreturn\u001b[0m \u001b[0minner_f\u001b[0m\u001b[1;33m\u001b[0m\u001b[1;33m\u001b[0m\u001b[0m\n\u001b[0;32m     75\u001b[0m \u001b[1;33m\u001b[0m\u001b[0m\n",
      "\u001b[1;32m~\\Documents\\ipl-project\\env\\lib\\site-packages\\sklearn\\utils\\validation.py\u001b[0m in \u001b[0;36mcheck_array\u001b[1;34m(array, accept_sparse, accept_large_sparse, dtype, order, copy, force_all_finite, ensure_2d, allow_nd, ensure_min_samples, ensure_min_features, estimator)\u001b[0m\n\u001b[0;32m    597\u001b[0m                     \u001b[0marray\u001b[0m \u001b[1;33m=\u001b[0m \u001b[0marray\u001b[0m\u001b[1;33m.\u001b[0m\u001b[0mastype\u001b[0m\u001b[1;33m(\u001b[0m\u001b[0mdtype\u001b[0m\u001b[1;33m,\u001b[0m \u001b[0mcasting\u001b[0m\u001b[1;33m=\u001b[0m\u001b[1;34m\"unsafe\"\u001b[0m\u001b[1;33m,\u001b[0m \u001b[0mcopy\u001b[0m\u001b[1;33m=\u001b[0m\u001b[1;32mFalse\u001b[0m\u001b[1;33m)\u001b[0m\u001b[1;33m\u001b[0m\u001b[1;33m\u001b[0m\u001b[0m\n\u001b[0;32m    598\u001b[0m                 \u001b[1;32melse\u001b[0m\u001b[1;33m:\u001b[0m\u001b[1;33m\u001b[0m\u001b[1;33m\u001b[0m\u001b[0m\n\u001b[1;32m--> 599\u001b[1;33m                     \u001b[0marray\u001b[0m \u001b[1;33m=\u001b[0m \u001b[0mnp\u001b[0m\u001b[1;33m.\u001b[0m\u001b[0masarray\u001b[0m\u001b[1;33m(\u001b[0m\u001b[0marray\u001b[0m\u001b[1;33m,\u001b[0m \u001b[0morder\u001b[0m\u001b[1;33m=\u001b[0m\u001b[0morder\u001b[0m\u001b[1;33m,\u001b[0m \u001b[0mdtype\u001b[0m\u001b[1;33m=\u001b[0m\u001b[0mdtype\u001b[0m\u001b[1;33m)\u001b[0m\u001b[1;33m\u001b[0m\u001b[1;33m\u001b[0m\u001b[0m\n\u001b[0m\u001b[0;32m    600\u001b[0m             \u001b[1;32mexcept\u001b[0m \u001b[0mComplexWarning\u001b[0m\u001b[1;33m:\u001b[0m\u001b[1;33m\u001b[0m\u001b[1;33m\u001b[0m\u001b[0m\n\u001b[0;32m    601\u001b[0m                 raise ValueError(\"Complex data not supported\\n\"\n",
      "\u001b[1;32m~\\Documents\\ipl-project\\env\\lib\\site-packages\\numpy\\core\\_asarray.py\u001b[0m in \u001b[0;36masarray\u001b[1;34m(a, dtype, order)\u001b[0m\n\u001b[0;32m     83\u001b[0m \u001b[1;33m\u001b[0m\u001b[0m\n\u001b[0;32m     84\u001b[0m     \"\"\"\n\u001b[1;32m---> 85\u001b[1;33m     \u001b[1;32mreturn\u001b[0m \u001b[0marray\u001b[0m\u001b[1;33m(\u001b[0m\u001b[0ma\u001b[0m\u001b[1;33m,\u001b[0m \u001b[0mdtype\u001b[0m\u001b[1;33m,\u001b[0m \u001b[0mcopy\u001b[0m\u001b[1;33m=\u001b[0m\u001b[1;32mFalse\u001b[0m\u001b[1;33m,\u001b[0m \u001b[0morder\u001b[0m\u001b[1;33m=\u001b[0m\u001b[0morder\u001b[0m\u001b[1;33m)\u001b[0m\u001b[1;33m\u001b[0m\u001b[1;33m\u001b[0m\u001b[0m\n\u001b[0m\u001b[0;32m     86\u001b[0m \u001b[1;33m\u001b[0m\u001b[0m\n\u001b[0;32m     87\u001b[0m \u001b[1;33m\u001b[0m\u001b[0m\n",
      "\u001b[1;31mValueError\u001b[0m: could not convert string to float: 'WD Parnell'"
     ]
    }
   ],
   "source": [
    "# reg_model_eva(model=models,X_train=X_train,X_test=X_test,y_train=y_train,y_test=y_test)\n",
    "# X_train.info()\n",
    "model = RandomForestRegressor()\n",
    "model.fit(X_train,y_train)"
   ]
  },
  {
   "cell_type": "code",
   "execution_count": null,
   "metadata": {},
   "outputs": [],
   "source": []
  }
 ],
 "metadata": {
  "kernelspec": {
   "display_name": "Python 3",
   "language": "python",
   "name": "python3"
  },
  "language_info": {
   "codemirror_mode": {
    "name": "ipython",
    "version": 3
   },
   "file_extension": ".py",
   "mimetype": "text/x-python",
   "name": "python",
   "nbconvert_exporter": "python",
   "pygments_lexer": "ipython3",
   "version": "3.8.3"
  }
 },
 "nbformat": 4,
 "nbformat_minor": 4
}
