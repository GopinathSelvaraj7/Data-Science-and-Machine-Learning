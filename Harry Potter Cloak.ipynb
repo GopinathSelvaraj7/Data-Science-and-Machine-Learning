{
 "cells": [
  {
   "cell_type": "code",
   "execution_count": 1,
   "metadata": {},
   "outputs": [],
   "source": [
    "import numpy as np\n",
    "import pandas as pd\n",
    "import cv2\n",
    "import time"
   ]
  },
  {
   "cell_type": "code",
   "execution_count": 9,
   "metadata": {},
   "outputs": [],
   "source": [
    "fourcc = cv2.VideoWriter_fourcc(*'XVID')\n",
    "out = cv2.VideoWriter('output.avi',fourcc, 20.0, (640,480))\n",
    "\n",
    "cap = cv2.VideoCapture(0)\n",
    "\n",
    "time.sleep(1)\n",
    "count = 0\n",
    "background = 0\n",
    "\n",
    "for i in range(60):\n",
    "    ret, background = cap.read()\n",
    "background = np.flip(background, axis=1)\n",
    "\n",
    "while(cap.isOpened()):\n",
    "    ret, frame = cap.read()\n",
    "    if not ret:\n",
    "        break\n",
    "    count += 1\n",
    "    frame = np.flip(frame,axis=1)\n",
    "    hsv = cv2.cvtColor(frame, cv2.COLOR_BGR2HSV)\n",
    "    \n",
    "    lower_red = np.array([0, 120, 50])\n",
    "    higher_red = np.array([10,255,255])\n",
    "    mask1 = cv2.inRange(hsv, lower_red, higher_red)\n",
    "\n",
    "    lower_red = np.array([170, 120, 70])\n",
    "    higher_red = np.array([180,255,255])\n",
    "    mask2 = cv2.inRange(hsv, lower_red, higher_red)\n",
    "    \n",
    "    mask = mask1 + mask2\n",
    "    \n",
    "    mask1 = cv2.morphologyEx(mask1, cv2.MORPH_OPEN, np.ones((3,3), np.uint8))\n",
    "    mask1 = cv2.morphologyEx(mask1, cv2.MORPH_DILATE, np.ones((3,3), np.uint8))\n",
    "    \n",
    "    mask2 = cv2.bitwise_not(mask1)\n",
    "    \n",
    "    res1 = cv2.bitwise_and(frame,frame,mask=mask2)\n",
    "    res2 = cv2.bitwise_and(background,background,mask=mask1)\n",
    "    \n",
    "    finaloutput = cv2.addWeighted(res1, 1, res2, 1, 0)\n",
    "    out.write(finaloutput)\n",
    "    cv2.imshow(\"frame\", finaloutput)\n",
    "    if cv2.waitKey(1) == ord('q'):\n",
    "        break\n",
    "\n",
    "cap.release()\n",
    "out.release()\n",
    "cv2.destroyAllWindows()\n",
    "    "
   ]
  },
  {
   "cell_type": "code",
   "execution_count": null,
   "metadata": {},
   "outputs": [],
   "source": []
  }
 ],
 "metadata": {
  "kernelspec": {
   "display_name": "Python 3",
   "language": "python",
   "name": "python3"
  },
  "language_info": {
   "codemirror_mode": {
    "name": "ipython",
    "version": 3
   },
   "file_extension": ".py",
   "mimetype": "text/x-python",
   "name": "python",
   "nbconvert_exporter": "python",
   "pygments_lexer": "ipython3",
   "version": "3.8.5"
  }
 },
 "nbformat": 4,
 "nbformat_minor": 4
}
